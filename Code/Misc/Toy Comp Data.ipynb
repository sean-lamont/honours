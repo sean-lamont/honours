{
 "cells": [
  {
   "cell_type": "code",
   "execution_count": 28,
   "metadata": {
    "collapsed": false
   },
   "outputs": [],
   "source": [
    "#generate a toy compositional dataset in 3D and play around with it \n",
    "import numpy as np\n",
    "import matplotlib.pyplot as plt\n",
    "   \n",
    "def is_compositional(x):\n",
    "    if round(sum(x), 5) == 1 and np.all([x_i >= 0 for x_i in x]):\n",
    "        return True \n",
    "    else:\n",
    "        return False\n",
    "\n",
    "#define parameters\n",
    "n = 100\n",
    "max_entry_size = 10000\n",
    "min_entry_size = 0\n",
    "\n",
    "#generate data\n",
    "random_freqs = np.random.randint(low=min_entry_size, high=max_entry_size, size = (n, 3))\n",
    "comp_data = list(map(lambda x: [x_i / np.sum(x) for x_i in x], random_freqs))\n",
    "\n",
    "\n",
    "#check comp_data defines a valid set of compositional data points \n",
    "assert (np.all([is_compositional(x) for x in comp_data]))\n"
   ]
  },
  {
   "cell_type": "code",
   "execution_count": 26,
   "metadata": {
    "collapsed": false
   },
   "outputs": [
    {
     "data": {
      "text/plain": [
       "<matplotlib.collections.PathCollection at 0x1ecab2d6ba8>"
      ]
     },
     "execution_count": 26,
     "metadata": {},
     "output_type": "execute_result"
    }
   ],
   "source": [
    "#Apply PCA naively to the data\n",
    "from sklearn import decomposition as dc\n",
    "pca_model = dc.PCA(2)\n",
    "pca_model.fit(comp_data)\n",
    "naive_pca = pca_model.transform(comp_data)\n",
    "\n",
    "plt.scatter(naive_pca[:,0], naive_pca[:,1])\n",
    "#plt.show()\n",
    "\n",
    "#apply PCA to standard clr Aitchinson transformation:\n",
    "clr = np.log(comp_data/) - np.mean(np.log(comp_data))\n",
    "pca_model = dc.PCA(2)\n",
    "pca_model.fit(clr)\n",
    "clr_pca = pca_model.transform(clr)\n",
    "\n",
    "plt.scatter(clr_pca[:,0], clr_pca[:,1])\n",
    "#plt.show()"
   ]
  },
  {
   "cell_type": "code",
   "execution_count": 29,
   "metadata": {
    "collapsed": true
   },
   "outputs": [],
   "source": [
    "#apply Hellinger (square root transformation)\n",
    "hellinger = np.sqrt(comp_data)\n",
    "pca_model = dc.PCA(2)\n",
    "pca_model.fit(hellinger)\n",
    "hellinger_pca = pca_model.transform(hellinger)\n",
    "\n",
    "plt.scatter(hellinger_pca[:,0], hellinger_pca[:,1])\n",
    "#plt.show()\n",
    "\n",
    "#TODO add 3D plots? overlay the axes to see if it agrees with intuition"
   ]
  }
 ],
 "metadata": {
  "kernelspec": {
   "display_name": "Python 3",
   "language": "python",
   "name": "python3"
  },
  "language_info": {
   "codemirror_mode": {
    "name": "ipython",
    "version": 3
   },
   "file_extension": ".py",
   "mimetype": "text/x-python",
   "name": "python",
   "nbconvert_exporter": "python",
   "pygments_lexer": "ipython3",
   "version": "3.5.4"
  }
 },
 "nbformat": 4,
 "nbformat_minor": 0
}
