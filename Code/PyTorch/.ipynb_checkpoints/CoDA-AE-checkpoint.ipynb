{
 "cells": [
  {
   "cell_type": "code",
   "execution_count": 2,
   "metadata": {},
   "outputs": [],
   "source": [
    "import torch\n",
    "from torch import nn\n",
    "from collections import OrderedDict\n",
    "import numpy as np"
   ]
  },
  {
   "cell_type": "code",
   "execution_count": 51,
   "metadata": {},
   "outputs": [],
   "source": [
    "class CoDA_AE(nn.Module):\n",
    "    \n",
    "    def __init__(self, input_dim, dimension, encoder_shape, decoder_shape):\n",
    "        super(CoDA_AE, self).__init__()\n",
    "        \n",
    "        #define a list with each element the input and output dim of the layer\n",
    "        layer_list = [[encoder_shape[i], encoder_shape[i+1]] for i in range(0, len(encoder_shape)-1)]\n",
    "        \n",
    "        encoder_dict = OrderedDict()\n",
    "        \n",
    "        #first layer will be twice input size, since we are feeding in both c_kl and X \n",
    "        encoder_dict[\"layer0\"] = nn.Linear(2 * input_dim, encoder_shape[0])\n",
    "\n",
    "        for i in range(0,len(encoder_shape)-1):\n",
    "            encoder_dict[\"layer\"  + str(i)] = nn.Linear(encoder_shape[i], encoder_shape[i+1])\n",
    "            encoder_dict[\"layer_ac\"  + str(i)] = nn.ELU()\n",
    "        encoder_dict[\"final_layer\"] = nn.Linear(encoder_shape[-1], dimension)\n",
    "        encoder_dict[\"final_ac\"] = nn.ELU()\n",
    "\n",
    "\n",
    "\n",
    "        self.encoder = nn.Sequential(encoder_dict)\n",
    "        \n",
    "        layer_list = [[decoder_shape[i], decoder_shape[i+1]] for i in range(0, len(decoder_shape)-1)]\n",
    "        \n",
    "        decoder_dict = OrderedDict()\n",
    "        decoder_dict[\"layer0\"] = nn.Linear(dimension, decoder_shape[0])\n",
    "\n",
    "        for i in range(0,len(decoder_shape)-1):\n",
    "            decoder_dict[\"layer\"  + str(i)] = nn.Linear(decoder_shape[i], decoder_shape[i+1])\n",
    "            decoder_dict[\"layer_ac\"  + str(i)] = nn.ELU()\n",
    "\n",
    "        #final layer will map back to input dim\n",
    "        decoder_dict[\"final_layer\"] = nn.Linear(decoder_shape[-1], input_dim)\n",
    "        decoder_dict[\"final_ac\"] = nn.ELU()\n",
    "\n",
    "        self.decoder = nn.Sequential(decoder_dict)\n",
    "        \n",
    "        \n",
    "    def forward(self,x):\n",
    "        EPS = 1e-6   # to avoid log(0)\n",
    "\n",
    "        #run the encoding and store the low level representation as A\n",
    "        x_ckl = torch.log(torch.clamp(check(x), EPS, 1))\n",
    "        \n",
    "        \n",
    "        #pass in both x and x_ckl as per paper\n",
    "        self.A = self.encoder(torch.cat((x, x_ckl), 1))\n",
    "        \n",
    "        \n",
    "        self.reconstruction = self.decoder(self.A)\n",
    "        return self.reconstruction\n",
    "        "
   ]
  },
  {
   "cell_type": "code",
   "execution_count": 4,
   "metadata": {},
   "outputs": [],
   "source": [
    "class CoDA_Loss(torch.nn.Module):\n",
    "    \n",
    "    def __init__(self):\n",
    "        super(CoDA_Loss,self).__init__()\n",
    "        \n",
    "    def forward(self,Y,X):\n",
    "        #X is original data, Y is CoDA reconstruction\n",
    "        #input needs to be normalised by g(x) (geometric mean) for X_hat\n",
    "        #TODO centering matrix? Reduce mean? Mask?  \n",
    "        X_check = check(X)\n",
    "        coda_loss = torch.sum(torch.exp(torch.clamp(Y, -30, 30))) - torch.sum(X_check * Y)\n",
    "\n",
    "        \n",
    "        return coda_loss\n",
    "\n",
    "def check(X):\n",
    "    #assume input is tensor so we can use the numpy() method\n",
    "    assert type(X) == torch.Tensor\n",
    "    gmean = torch.prod(X, 1) ** (1./X.shape[1])\n",
    "    return torch.div(X.t(), torch.clamp(gmean, min=1e-8)).t()"
   ]
  },
  {
   "cell_type": "code",
   "execution_count": 5,
   "metadata": {},
   "outputs": [
    {
     "data": {
      "text/plain": [
       "tensor(267.8988)"
      ]
     },
     "execution_count": 5,
     "metadata": {},
     "output_type": "execute_result"
    }
   ],
   "source": [
    "C = CoDA_Loss()\n",
    "C.forward(torch.FloatTensor([[2,2,2,4], [1,3,3,4], [1,4,3,4]]), torch.FloatTensor([[2,2,3,4], [1,1,1,1], [1,4,3,4]]))"
   ]
  },
  {
   "cell_type": "code",
   "execution_count": 21,
   "metadata": {},
   "outputs": [
    {
     "name": "stdout",
     "output_type": "stream",
     "text": [
      "CoDA_AE(\n",
      "  (encoder): Sequential(\n",
      "    (layer0): Linear(in_features=6, out_features=100, bias=True)\n",
      "    (final_layer): Linear(in_features=100, out_features=2, bias=True)\n",
      "  )\n",
      "  (decoder): Sequential(\n",
      "    (layer0): Linear(in_features=2, out_features=3, bias=True)\n",
      "    (final_layer): Linear(in_features=3, out_features=3, bias=True)\n",
      "    (final_ac): ELU(alpha=1.0)\n",
      "  )\n",
      ")\n",
      "epoch 1000, loss -282.0503845214844\n",
      "epoch 2000, loss -287.7952575683594\n",
      "epoch 3000, loss -288.60137939453125\n",
      "epoch 4000, loss -288.75592041015625\n",
      "epoch 5000, loss -288.79559326171875\n",
      "epoch 6000, loss -288.8101806640625\n",
      "epoch 7000, loss -288.8170166015625\n",
      "epoch 8000, loss -288.82073974609375\n",
      "epoch 9000, loss -288.82330322265625\n",
      "epoch 10000, loss -288.8247375488281\n"
     ]
    },
    {
     "data": {
      "text/plain": [
       "<matplotlib.collections.PathCollection at 0x259fea7aac8>"
      ]
     },
     "execution_count": 21,
     "metadata": {},
     "output_type": "execute_result"
    },
    {
     "data": {
      "image/png": "[encoded data removed]",
      "text/plain": [
       "<Figure size 432x288 with 1 Axes>"
      ]
     },
     "metadata": {
      "needs_background": "light"
     },
     "output_type": "display_data"
    }
   ],
   "source": [
    "import pandas as pd \n",
    "import matplotlib.pyplot as plt\n",
    "\n",
    "data_9 = pd.read_csv(\"Data 9. Urinary excretions (mg_per_24hr) of steroid metabolites for 37 adults and 30 normal children.csv\")\n",
    "adult_inds = np.where(data_9['Adult/Child'] == 'A')\n",
    "child_inds = np.where(data_9['Adult/Child'] == 'C')\n",
    "\n",
    "adult = data_9.to_numpy()[adult_inds]\n",
    "child = data_9.to_numpy()[child_inds]\n",
    "features = data_9[data_9.columns[2:]].to_numpy()\n",
    "\n",
    "\n",
    "features = np.array([feat/sum(feat) for feat in features])\n",
    "\n",
    "\n",
    "\n",
    "X = features\n",
    "autoencoder = CoDA_AE(X.shape[1], 2, [100,], [3,])\n",
    "print (autoencoder)\n",
    "#define the CoDA-PCA loss\n",
    "loss_function = CoDA_Loss()\n",
    "optim = torch.optim.SGD(autoencoder.parameters(), lr = 0.0001)\n",
    "    \n",
    "for epoch in range(0,10000):\n",
    "    out = autoencoder.forward(torch.FloatTensor(X))\n",
    "    loss = loss_function(out, torch.FloatTensor(X))\n",
    "        \n",
    "    optim.zero_grad()\n",
    "        \n",
    "    loss.backward()\n",
    "    optim.step()\n",
    "        \n",
    "    epoch += 1\n",
    "    \n",
    "    if (epoch % 1000 == 0):\n",
    "        print(\"epoch {}, loss {}\".format(epoch, loss))\n",
    "    \n",
    "test = autoencoder.A.detach().numpy()\n",
    "\n",
    "\n",
    "\n",
    "# # pca_clr = CodaPCA.CLRPCA(2)\n",
    "# # pca_clr.fit(features)\n",
    "# # test = pca_clr.transform(features)\n",
    "\n",
    "# pca = CodaPCA.CodaPCA(2,lrate=1e-3,nn_shape=[100,100], alg=CodaPCA.Alg.CODAPCA)\n",
    "# pca.fit(features)\n",
    "\n",
    "\n",
    "# test = pca.transform(features)\n",
    "\n",
    "plt.scatter(x = test[adult_inds][:,0], y = test[adult_inds][:,1], c =\"red\")\n",
    "plt.scatter(x = test[child_inds][:,0], y = test[child_inds][:,1], c =\"orange\")\n",
    "\n"
   ]
  },
  {
   "cell_type": "code",
   "execution_count": 62,
   "metadata": {},
   "outputs": [
    {
     "name": "stdout",
     "output_type": "stream",
     "text": [
      "CoDA_AE(\n",
      "  (encoder): Sequential(\n",
      "    (layer0): Linear(in_features=8, out_features=100, bias=True)\n",
      "    (final_layer): Linear(in_features=100, out_features=2, bias=True)\n",
      "    (final_ac): ELU(alpha=1.0)\n",
      "  )\n",
      "  (decoder): Sequential(\n",
      "    (layer0): Linear(in_features=2, out_features=3, bias=True)\n",
      "    (final_layer): Linear(in_features=3, out_features=4, bias=True)\n",
      "    (final_ac): ELU(alpha=1.0)\n",
      "  )\n",
      ")\n",
      "epoch 1000, loss -936673216.0\n",
      "epoch 2000, loss -936674048.0\n",
      "epoch 3000, loss -936674880.0\n",
      "epoch 4000, loss -936675712.0\n",
      "epoch 5000, loss -936676672.0\n",
      "epoch 6000, loss -936677504.0\n",
      "epoch 7000, loss -936678272.0\n",
      "epoch 8000, loss -936679168.0\n",
      "epoch 9000, loss -936680064.0\n",
      "epoch 10000, loss -936680832.0\n"
     ]
    }
   ],
   "source": [
    "data = pd.read_csv(\"Data 18. Compositions and total pebble counts of 92 glacial tills.csv\")\n",
    "\n",
    "\n",
    "\n",
    "\n",
    "# headers = data[1]\n",
    "# features = data[0][:,co_feature_indices]\n",
    "# targets = data[0][:,target_index]\n",
    "    \n",
    "# #normalise the compositional features. TODO anything extra to deal with non compositional features?\n",
    "\n",
    "\n",
    "features = data[data.columns[1:-1]]\n",
    "targets = data[data.columns[-1]]\n",
    "\n",
    "features = np.array([feat/sum(feat) for feat in features.values])\n",
    "\n",
    "\n",
    "features = torch.FloatTensor(features)\n",
    "targets = torch.FloatTensor(targets)\n",
    "\n",
    "\n",
    "\n",
    "\n",
    "\n",
    "X = features\n",
    "autoencoder = CoDA_AE(X.shape[1], 2, [100,], [3,])\n",
    "print (autoencoder)\n",
    "\n",
    "#define the CoDA-PCA loss\n",
    "loss_function = CoDA_Loss()\n",
    "optim = torch.optim.SGD(autoencoder.parameters(), lr = 1e-18)\n",
    "    \n",
    "for epoch in range(0,10000):\n",
    "    out = autoencoder.forward(torch.FloatTensor(X))\n",
    "    loss = loss_function(out, torch.FloatTensor(X))\n",
    "        \n",
    "    optim.zero_grad()\n",
    "        \n",
    "    loss.backward()\n",
    "    optim.step()\n",
    "        \n",
    "    epoch += 1\n",
    "    \n",
    "    if (epoch % 1000 == 0):\n",
    "        print(\"epoch {}, loss {}\".format(epoch, loss)) \n",
    "        #print (out)\n",
    "    "
   ]
  },
  {
   "cell_type": "code",
   "execution_count": 63,
   "metadata": {},
   "outputs": [
    {
     "data": {
      "text/plain": [
       "<matplotlib.collections.PathCollection at 0x25982076be0>"
      ]
     },
     "execution_count": 63,
     "metadata": {},
     "output_type": "execute_result"
    },
    {
     "data": {
      "image/png": "[encoded data removed]",
      "text/plain": [
       "<Figure size 432x288 with 1 Axes>"
      ]
     },
     "metadata": {
      "needs_background": "light"
     },
     "output_type": "display_data"
    }
   ],
   "source": [
    "test = autoencoder.A.detach().numpy()\n",
    "\n",
    "plt.scatter(test[:,0], test[:,1])"
   ]
  },
  {
   "cell_type": "code",
   "execution_count": 58,
   "metadata": {},
   "outputs": [
    {
     "name": "stdout",
     "output_type": "stream",
     "text": [
      "[epoch     0] L=  1.5226\n"
     ]
    },
    {
     "data": {
      "text/plain": [
       "<matplotlib.collections.PathCollection at 0x259824ebe48>"
      ]
     },
     "execution_count": 58,
     "metadata": {},
     "output_type": "execute_result"
    },
    {
     "data": {
      "image/png": "[encoded data removed]",
      "text/plain": [
       "<Figure size 432x288 with 1 Axes>"
      ]
     },
     "metadata": {
      "needs_background": "light"
     },
     "output_type": "display_data"
    }
   ],
   "source": [
    "data = pd.read_csv(\"Data 18. Compositions and total pebble counts of 92 glacial tills.csv\")\n",
    "\n",
    "\n",
    "\n",
    "\n",
    "# headers = data[1]\n",
    "# features = data[0][:,co_feature_indices]\n",
    "# targets = data[0][:,target_index]\n",
    "    \n",
    "# #normalise the compositional features. TODO anything extra to deal with non compositional features?\n",
    "\n",
    "\n",
    "features = data[data.columns[1:-1]]\n",
    "targets = data[data.columns[-1]]\n",
    "\n",
    "features = np.array([feat/sum(feat) for feat in features.values])\n",
    "\n",
    "\n",
    "features = torch.FloatTensor(features)\n",
    "\n",
    "import CodaPCA\n",
    "pca = CodaPCA.CodaPCA(2,lrate=1e-3,nn_shape=[50,50], alg=CodaPCA.Alg.CODAAE)\n",
    "#TODO: check why this is numerically unstable\n",
    "#pca = CodaPCA.NonParametricCodaPCA(n_components)\n",
    "test = pca.fit_transform(features)\n",
    "\n",
    "plt.scatter(test[:,0], test[:,1])"
   ]
  }
 ],
 "metadata": {
  "kernelspec": {
   "display_name": "Python 3",
   "language": "python",
   "name": "python3"
  },
  "language_info": {
   "codemirror_mode": {
    "name": "ipython",
    "version": 3
   },
   "file_extension": ".py",
   "mimetype": "text/x-python",
   "name": "python",
   "nbconvert_exporter": "python",
   "pygments_lexer": "ipython3",
   "version": "3.7.1"
  }
 },
 "nbformat": 4,
 "nbformat_minor": 2
}
