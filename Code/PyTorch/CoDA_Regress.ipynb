{
 "cells": [
  {
   "cell_type": "code",
   "execution_count": 1,
   "metadata": {},
   "outputs": [],
   "source": [
    "import torch\n",
    "from torch import nn\n",
    "from collections import OrderedDict\n",
    "import numpy as np"
   ]
  },
  {
   "cell_type": "code",
   "execution_count": 4,
   "metadata": {},
   "outputs": [],
   "source": [
    "class CoDA_Regress(nn.Module):\n",
    "    \n",
    "    def __init__(self, encoder_shape, decoder_shape):\n",
    "        super(CoDA_AE, self).__init__()\n",
    "        \n",
    "        #define regression layer, with input dim based on final encoding layer\n",
    "        self.dim = endcoder_shape[-1]\n",
    "        self.linear = nn.Linear(self.dim, 1)\n",
    "        \n",
    "        #define a list with each element the input and output dim of the layer\n",
    "        layer_list = [[encoder_shape[i], encoder_shape[i+1]] for i in range(0, len(encoder_shape)-1)]\n",
    "        \n",
    "        encoder_dict = OrderedDict()\n",
    "\n",
    "        for i in range(0,len(layer_list)):\n",
    "            encoder_dict[\"layer\"  + str(i)] = nn.ELU(nn.Linear(layer_list[i][0], layer_list[i][1]))\n",
    "\n",
    "        self.encoder = nn.Sequential(encoder_dict)\n",
    "        \n",
    "        layer_list = [[decoder_shape[i], decoder_shape[i+1]] for i in range(0, len(decoder_shape)-1)]\n",
    "        \n",
    "        decoder_dict = OrderedDict()\n",
    "\n",
    "        for i in range(0,len(layer_list)):\n",
    "            decoder_dict[\"layer\"  + str(i)] = nn.ELU(nn.Linear(layer_list[i][0], layer_list[i][1]))\n",
    "\n",
    "        self.decoder = nn.Sequential(decoder_dict)\n",
    "        \n",
    "        \n",
    "    def forward(x):\n",
    "        #run the encoding and store the low level representation as A\n",
    "        self.A = self.encoder(x)\n",
    "        self.reconstruction = self.decoder(self.A)\n",
    "        self.y = self.linear(self.A)\n",
    "        #return both the predicted target, and the reconstruction so both can be inputs to the combined loss\n",
    "        return self.pred, self.reconstruction\n"
   ]
  },
  {
   "cell_type": "code",
   "execution_count": 2,
   "metadata": {},
   "outputs": [],
   "source": [
    "class Combined_Loss(torch.nn.Module):\n",
    "    def __init__(self, lam):\n",
    "        super(Combined_Loss,self).__init__()\n",
    "        self.CoDA_Loss = CoDA_Loss()\n",
    "        self.MSE = nn.MSELoss()\n",
    "        self.lambda = lam\n",
    "        \n",
    "    def forward(self,Y,X,y_hat,y):\n",
    "        #X is original data, Y is CoDA reconstruction, y is targets, y_hat \n",
    "        #input needs to be normalised by g(x) (geometric mean) for X_hat\n",
    "        #TODO centering matrix? Reduce mean? Mask?  \n",
    "        return self.MSE(yhat, y) + lam * CoDA_Loss(Y,X)  \n",
    "\n",
    "class CoDA_Loss(torch.nn.Module):\n",
    "    def __init__(self):\n",
    "        super(CoDA_Loss,self).__init__()\n",
    "        \n",
    "    def forward(self,Y,X):\n",
    "        #X is original data, Y is CoDA reconstruction\n",
    "        #input needs to be normalised by g(x) (geometric mean) for X_hat\n",
    "        #TODO centering matrix? Reduce mean? Mask?  \n",
    "        X_check = check(X)\n",
    "        coda_loss = torch.sum(torch.exp(Y)) - torch.sum(X_check * Y)\n",
    "        return coda_loss  \n",
    "    \n",
    "def check(X):\n",
    "    #assume input is tensor so we can use the numpy() method\n",
    "    assert type(X) == torch.Tensor\n",
    "    gmean = torch.prod(X, 1) ** (1./X.shape[1])\n",
    "    return torch.div(X.t(), gmean).t()"
   ]
  }
 ],
 "metadata": {
  "kernelspec": {
   "display_name": "Python 3",
   "language": "python",
   "name": "python3"
  },
  "language_info": {
   "codemirror_mode": {
    "name": "ipython",
    "version": 3
   },
   "file_extension": ".py",
   "mimetype": "text/x-python",
   "name": "python",
   "nbconvert_exporter": "python",
   "pygments_lexer": "ipython3",
   "version": "3.7.1"
  }
 },
 "nbformat": 4,
 "nbformat_minor": 2
}
