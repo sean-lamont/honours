{
 "cells": [
  {
   "cell_type": "code",
   "execution_count": 1,
   "metadata": {},
   "outputs": [],
   "source": [
    "import torch\n",
    "from torch import nn\n",
    "from collections import OrderedDict\n",
    "import numpy as np"
   ]
  },
  {
   "cell_type": "code",
   "execution_count": 120,
   "metadata": {},
   "outputs": [],
   "source": [
    "class CoDA_AE(nn.Module):\n",
    "    \n",
    "    def __init__(self, encoder_shape, decoder_shape):\n",
    "        super(CoDA_AE, self).__init__()\n",
    "        \n",
    "        #define a list with each element the input and output dim of the layer\n",
    "        layer_list = [[encoder_shape[i], encoder_shape[i+1]] for i in range(0, len(encoder_shape)-1)]\n",
    "        \n",
    "        encoder_dict = OrderedDict()\n",
    "\n",
    "        for i in range(0,len(layer_list)):\n",
    "            encoder_dict[\"layer\"  + str(i)] = nn.Linear(layer_list[i][0], layer_list[i][1])\n",
    "            encoder_dict[\"layer_ac\"  + str(i)] = nn.ELU()\n",
    "\n",
    "\n",
    "        self.encoder = nn.Sequential(encoder_dict)\n",
    "        \n",
    "        layer_list = [[decoder_shape[i], decoder_shape[i+1]] for i in range(0, len(decoder_shape)-1)]\n",
    "        \n",
    "        decoder_dict = OrderedDict()\n",
    "\n",
    "        for i in range(0,len(layer_list)):\n",
    "            decoder_dict[\"layer\"  + str(i)] = nn.Linear(layer_list[i][0], layer_list[i][1])\n",
    "            decoder_dict[\"layer_ac\"  + str(i)] = nn.ELU()\n",
    "\n",
    "        self.decoder = nn.Sequential(decoder_dict)\n",
    "        \n",
    "        \n",
    "    def forward(self,x):\n",
    "        #run the encoding and store the low level representation as A\n",
    "        #TODO\n",
    "        #need to create the clr transform of X, then feed both that and X into the encoder\n",
    "        #easier to have encoder_shape as hidden layers, and have the desired dimension and input size as params\n",
    "        \n",
    "        \n",
    "        self.A = self.encoder(x)\n",
    "        self.reconstruction = self.decoder(self.A)\n",
    "        return self.reconstruction\n",
    "        "
   ]
  },
  {
   "cell_type": "code",
   "execution_count": 156,
   "metadata": {},
   "outputs": [
    {
     "name": "stdout",
     "output_type": "stream",
     "text": [
      "CoDA_AE(\n",
      "  (encoder): Sequential(\n",
      "    (layer0): Linear(in_features=3, out_features=100, bias=True)\n",
      "    (layer_ac0): ELU(alpha=1.0)\n",
      "    (layer1): Linear(in_features=100, out_features=2, bias=True)\n",
      "    (layer_ac1): ELU(alpha=1.0)\n",
      "  )\n",
      "  (decoder): Sequential(\n",
      "    (layer0): Linear(in_features=2, out_features=3, bias=True)\n",
      "    (layer_ac0): ELU(alpha=1.0)\n",
      "  )\n",
      ")\n"
     ]
    }
   ],
   "source": [
    "X = features\n",
    "autoencoder = CoDA_AE([3,100,2], [2,3])\n",
    "print (autoencoder)\n",
    "#define the CoDA-PCA loss\n",
    "loss_function = CoDA_Loss()\n",
    "optim = torch.optim.SGD(autoencoder.parameters(), lr = 0.001)\n",
    "    \n",
    "for epoch in range(0,1000):\n",
    "    out = autoencoder.forward(torch.FloatTensor(X))\n",
    "    loss = loss_function(out, torch.FloatTensor(X))\n",
    "        \n",
    "    optim.zero_grad()\n",
    "        \n",
    "    loss.backward()\n",
    "    optim.step()\n",
    "        \n",
    "    epoch += 1\n",
    "    \n",
    "    #print(\"epoch {}, loss {}\".format(epoch, loss))"
   ]
  },
  {
   "cell_type": "code",
   "execution_count": 101,
   "metadata": {},
   "outputs": [],
   "source": [
    "class CoDA_Loss(torch.nn.Module):\n",
    "    \n",
    "    def __init__(self):\n",
    "        super(CoDA_Loss,self).__init__()\n",
    "        \n",
    "    def forward(self,Y,X):\n",
    "        #X is original data, Y is CoDA reconstruction\n",
    "        #input needs to be normalised by g(x) (geometric mean) for X_hat\n",
    "        #TODO centering matrix? Reduce mean? Mask?  \n",
    "        X_check = check(X)\n",
    "        coda_loss = torch.sum(torch.exp(Y)) - torch.sum(X_check * Y)\n",
    "        return coda_loss\n",
    "\n",
    "def check(X):\n",
    "    #assume input is tensor so we can use the numpy() method\n",
    "    assert type(X) == torch.Tensor\n",
    "    gmean = torch.prod(X, 1) ** (1./X.shape[1])\n",
    "    return torch.div(X.t(), gmean).t()"
   ]
  },
  {
   "cell_type": "code",
   "execution_count": 128,
   "metadata": {},
   "outputs": [
    {
     "data": {
      "text/plain": [
       "tensor(267.8988)"
      ]
     },
     "execution_count": 128,
     "metadata": {},
     "output_type": "execute_result"
    }
   ],
   "source": [
    "C = CoDA_Loss()\n",
    "C.forward(torch.FloatTensor([[2,2,2,4], [1,3,3,4], [1,4,3,4]]), torch.FloatTensor([[2,2,3,4], [1,1,1,1], [1,4,3,4]]))"
   ]
  },
  {
   "cell_type": "code",
   "execution_count": 166,
   "metadata": {},
   "outputs": [
    {
     "name": "stdout",
     "output_type": "stream",
     "text": [
      "CoDA_AE(\n",
      "  (encoder): Sequential(\n",
      "    (layer0): Linear(in_features=3, out_features=100, bias=True)\n",
      "    (layer_ac0): ELU(alpha=1.0)\n",
      "    (layer1): Linear(in_features=100, out_features=2, bias=True)\n",
      "    (layer_ac1): ELU(alpha=1.0)\n",
      "  )\n",
      "  (decoder): Sequential(\n",
      "    (layer0): Linear(in_features=2, out_features=3, bias=True)\n",
      "    (layer_ac0): ELU(alpha=1.0)\n",
      "  )\n",
      ")\n",
      "epoch 1000, loss -218.8839111328125\n",
      "epoch 2000, loss -228.36953735351562\n",
      "epoch 3000, loss -232.01467895507812\n",
      "epoch 4000, loss -234.227783203125\n",
      "epoch 5000, loss -239.3748779296875\n",
      "epoch 6000, loss -249.12100219726562\n",
      "epoch 7000, loss -267.6860046386719\n",
      "epoch 8000, loss -271.83929443359375\n",
      "epoch 9000, loss -274.2187194824219\n",
      "epoch 10000, loss -275.87298583984375\n"
     ]
    },
    {
     "data": {
      "image/png": "[encoded data removed]",
      "text/plain": [
       "<Figure size 432x288 with 1 Axes>"
      ]
     },
     "metadata": {
      "needs_background": "light"
     },
     "output_type": "display_data"
    }
   ],
   "source": [
    "import pandas as pd \n",
    "import matplotlib.pyplot as plt\n",
    "\n",
    "data_9 = pd.read_csv(\"Data 9. Urinary excretions (mg_per_24hr) of steroid metabolites for 37 adults and 30 normal children.csv\")\n",
    "adult_inds = np.where(data_9['Adult/Child'] == 'A')\n",
    "child_inds = np.where(data_9['Adult/Child'] == 'C')\n",
    "\n",
    "adult = data_9.to_numpy()[adult_inds]\n",
    "child = data_9.to_numpy()[child_inds]\n",
    "features = data_9[data_9.columns[2:]].to_numpy()\n",
    "\n",
    "\n",
    "features = np.array([feat/sum(feat) for feat in features])\n",
    "\n",
    "\n",
    "\n",
    "X = features\n",
    "autoencoder = CoDA_AE([3,100,2], [2,3])\n",
    "print (autoencoder)\n",
    "#define the CoDA-PCA loss\n",
    "loss_function = CoDA_Loss()\n",
    "optim = torch.optim.SGD(autoencoder.parameters(), lr = 0.001)\n",
    "    \n",
    "for epoch in range(0,10000):\n",
    "    out = autoencoder.forward(torch.FloatTensor(X))\n",
    "    loss = loss_function(out, torch.FloatTensor(X))\n",
    "        \n",
    "    optim.zero_grad()\n",
    "        \n",
    "    loss.backward()\n",
    "    optim.step()\n",
    "        \n",
    "    epoch += 1\n",
    "    \n",
    "    if (epoch % 1000 == 0):\n",
    "        print(\"epoch {}, loss {}\".format(epoch, loss))\n",
    "    \n",
    "test = autoencoder.A.detach().numpy()\n",
    "\n",
    "\n",
    "\n",
    "# # pca_clr = CodaPCA.CLRPCA(2)\n",
    "# # pca_clr.fit(features)\n",
    "# # test = pca_clr.transform(features)\n",
    "\n",
    "# pca = CodaPCA.CodaPCA(2,lrate=1e-3,nn_shape=[100,100], alg=CodaPCA.Alg.CODAPCA)\n",
    "# pca.fit(features)\n",
    "\n",
    "\n",
    "# test = pca.transform(features)\n",
    "\n",
    "plt.scatter(x = test[adult_inds][:,0], y = test[adult_inds][:,1], c =\"red\")\n",
    "plt.scatter(x = test[child_inds][:,0], y = test[child_inds][:,1], c =\"orange\")\n",
    "\n",
    "\n",
    "plt.show()\n"
   ]
  }
 ],
 "metadata": {
  "kernelspec": {
   "display_name": "Python 3",
   "language": "python",
   "name": "python3"
  },
  "language_info": {
   "codemirror_mode": {
    "name": "ipython",
    "version": 3
   },
   "file_extension": ".py",
   "mimetype": "text/x-python",
   "name": "python",
   "nbconvert_exporter": "python",
   "pygments_lexer": "ipython3",
   "version": "3.7.1"
  }
 },
 "nbformat": 4,
 "nbformat_minor": 2
}
