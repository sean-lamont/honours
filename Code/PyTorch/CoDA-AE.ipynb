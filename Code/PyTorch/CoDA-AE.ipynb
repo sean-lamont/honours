{
 "cells": [
  {
   "cell_type": "code",
   "execution_count": 1,
   "metadata": {},
   "outputs": [],
   "source": [
    "import torch\n",
    "from torch import nn\n",
    "from collections import OrderedDict"
   ]
  },
  {
   "cell_type": "code",
   "execution_count": 2,
   "metadata": {},
   "outputs": [
    {
     "data": {
      "text/plain": [
       "CoDA_AE(\n",
       "  (encoder): Sequential(\n",
       "    (layer0): ELU(\n",
       "      alpha=Linear(in_features=100, out_features=200, bias=True)\n",
       "      (alpha): Linear(in_features=100, out_features=200, bias=True)\n",
       "    )\n",
       "    (layer1): ELU(\n",
       "      alpha=Linear(in_features=200, out_features=50, bias=True)\n",
       "      (alpha): Linear(in_features=200, out_features=50, bias=True)\n",
       "    )\n",
       "    (layer2): ELU(\n",
       "      alpha=Linear(in_features=50, out_features=40, bias=True)\n",
       "      (alpha): Linear(in_features=50, out_features=40, bias=True)\n",
       "    )\n",
       "  )\n",
       "  (decoder): Sequential(\n",
       "    (layer0): ELU(\n",
       "      alpha=Linear(in_features=100, out_features=200, bias=True)\n",
       "      (alpha): Linear(in_features=100, out_features=200, bias=True)\n",
       "    )\n",
       "  )\n",
       ")"
      ]
     },
     "execution_count": 2,
     "metadata": {},
     "output_type": "execute_result"
    }
   ],
   "source": [
    "class CoDA_AE(nn.Module):\n",
    "    \n",
    "    def __init__(self, encoder_shape, decoder_shape):\n",
    "        super(CoDA_AE, self).__init__()\n",
    "        \n",
    "        #define a list with each element the input and output dim of the layer\n",
    "        layer_list = [[encoder_shape[i], encoder_shape[i+1]] for i in range(0, len(encoder_shape)-1)]\n",
    "        \n",
    "        encoder_dict = OrderedDict()\n",
    "\n",
    "        for i in range(0,len(layer_list)):\n",
    "            encoder_dict[\"layer\"  + str(i)] = nn.ELU(nn.Linear(layer_list[i][0], layer_list[i][1]))\n",
    "\n",
    "        self.encoder = nn.Sequential(encoder_dict)\n",
    "        \n",
    "        layer_list = [[decoder_shape[i], decoder_shape[i+1]] for i in range(0, len(decoder_shape)-1)]\n",
    "        \n",
    "        decoder_dict = OrderedDict()\n",
    "\n",
    "        for i in range(0,len(layer_list)):\n",
    "            decoder_dict[\"layer\"  + str(i)] = nn.ELU(nn.Linear(layer_list[i][0], layer_list[i][1]))\n",
    "\n",
    "        self.decoder = nn.Sequential(decoder_dict)\n",
    "        \n",
    "        \n",
    "    def forward(x):\n",
    "        #run the encoding and store the low level representation as A\n",
    "        self.A = self.encoder(x)\n",
    "        self.reconstruction = self.decoder(self.A)\n",
    "        return self.reconstruction\n",
    "        \n",
    "\n",
    "def train(X, encoder_shape = [100,20], decoder_shape=[20, 100], epochs = 100):\n",
    "    #ensure the first encoder dimension and final decoder dimension is equal to the size of the input\n",
    "    assert X.shape(1) == encoder_shape[0] && X.shape(1) == decoder_shape[-1] \n",
    "    \n",
    "    autoencoder = CoDA_AE(encoder_shape, decoder_shape)\n",
    "    #define the CoDA-PCA loss\n",
    "    loss_function = CoDA_Loss\n",
    "    optim = torch.optim.SGD(lm.params, lr = 0.01)\n",
    "    \n",
    "    for epoch in range(epochs):\n",
    "        \n",
    "        out = model.forward(X)\n",
    "        loss = loss_function(out, X)\n",
    "        \n",
    "        optim.zero_grad()\n",
    "        \n",
    "        loss.backward()\n",
    "        optimiser.step()\n",
    "        \n",
    "        epoch += 1\n",
    "        \n",
    "\n",
    "        \n",
    "CoDA_AE([100,200, 50, 40], [100,200])"
   ]
  },
  {
   "cell_type": "code",
   "execution_count": 9,
   "metadata": {},
   "outputs": [],
   "source": [
    "class CoDA_Loss(torch.nn.Module):\n",
    "    \n",
    "    def __init__(self):\n",
    "        super(CoDA_Loss,self).__init__()\n",
    "        \n",
    "    def forward(self,Y,X):\n",
    "        #X is original data, Y is CoDA reconstruction\n",
    "        #input needs to be normalised by g(x) (geometric mean) for X_hat\n",
    "        #TODO centering matrix?\n",
    "        X_hat = X\n",
    "        coda_loss = 0\n",
    "        return coda_loss\n"
   ]
  }
 ],
 "metadata": {
  "kernelspec": {
   "display_name": "Python 3",
   "language": "python",
   "name": "python3"
  },
  "language_info": {
   "codemirror_mode": {
    "name": "ipython",
    "version": 3
   },
   "file_extension": ".py",
   "mimetype": "text/x-python",
   "name": "python",
   "nbconvert_exporter": "python",
   "pygments_lexer": "ipython3",
   "version": "3.7.1"
  }
 },
 "nbformat": 4,
 "nbformat_minor": 2
}
