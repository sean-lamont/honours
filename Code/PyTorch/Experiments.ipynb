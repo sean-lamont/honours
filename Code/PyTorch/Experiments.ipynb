{
 "cells": [
  {
   "cell_type": "code",
   "execution_count": 9,
   "metadata": {},
   "outputs": [],
   "source": [
    "import CodaRegress\n",
    "import pandas as pd\n",
    "import matplotlib.pyplot as plt\n",
    "import numpy as np\n",
    "import torch\n",
    "from sklearn.model_selection import KFold"
   ]
  },
  {
   "cell_type": "code",
   "execution_count": 2,
   "metadata": {},
   "outputs": [
    {
     "data": {
      "text/plain": [
       "tensor([ 282.,  368.,  607.,  532.,  360.,  470.,  102.,  544.,  387.,  294.,\n",
       "         503.,  697.,  393.,  665.,  347.,  791.,  225.,  175.,  333.,  269.,\n",
       "         118.,  154.,  276.,  480.,  373.,  369.,  126.,  460.,  441.,  502.,\n",
       "         126.,  376.,  118.,  303.,  250.,  582.,   69.,  226.,  359.,  453.,\n",
       "         427.,  334.,  364.,  869.,  441.,  615.,  532.,  417.,  360.,  580.,\n",
       "         147.,  500.,  943.,  305., 1151.,  457.,  637.,  284.,  386.,  221.,\n",
       "         208.,  573.,  565.,  170.,  261., 1097.,  408.,   24.,  890.,  168.,\n",
       "          22.,  601.,  364.,  342.,  867.,  691.,  462.,  318.,  461.,  777.,\n",
       "         397.,  347.,  744.,  576.,  321.,  382.,  645.,  459.,  681.,  245.,\n",
       "         575.,  698.])"
      ]
     },
     "execution_count": 2,
     "metadata": {},
     "output_type": "execute_result"
    }
   ],
   "source": [
    "data = pd.read_csv(\"Data 18. Compositions and total pebble counts of 92 glacial tills.csv\")\n",
    "\n",
    "\n",
    "\n",
    "\n",
    "# headers = data[1]\n",
    "# features = data[0][:,co_feature_indices]\n",
    "# targets = data[0][:,target_index]\n",
    "    \n",
    "# #normalise the compositional features. TODO anything extra to deal with non compositional features?\n",
    "\n",
    "\n",
    "features = data[data.columns[1:-1]]\n",
    "targets = data[data.columns[-1]]\n",
    "\n",
    "features = np.array([feat/sum(feat) for feat in features.values])\n",
    "\n",
    "\n",
    "features = torch.FloatTensor(features)\n",
    "targets = torch.FloatTensor(targets)\n",
    "\n",
    "targets"
   ]
  },
  {
   "cell_type": "code",
   "execution_count": 3,
   "metadata": {},
   "outputs": [
    {
     "data": {
      "text/plain": [
       "tensor([[0.7750, 0.1950, 0.0300],\n",
       "        [0.7190, 0.2490, 0.0320],\n",
       "        [0.5070, 0.3610, 0.1320],\n",
       "        [0.5236, 0.4102, 0.0662],\n",
       "        [0.7000, 0.2650, 0.0350],\n",
       "        [0.6650, 0.3220, 0.0130],\n",
       "        [0.4310, 0.5530, 0.0160],\n",
       "        [0.5340, 0.3680, 0.0980],\n",
       "        [0.1550, 0.5440, 0.3010],\n",
       "        [0.3170, 0.4150, 0.2680],\n",
       "        [0.6570, 0.2780, 0.0650],\n",
       "        [0.7040, 0.2900, 0.0060],\n",
       "        [0.1740, 0.5360, 0.2900],\n",
       "        [0.1060, 0.6980, 0.1960],\n",
       "        [0.3820, 0.4310, 0.1870],\n",
       "        [0.1080, 0.5270, 0.3650],\n",
       "        [0.1840, 0.5070, 0.3090],\n",
       "        [0.0460, 0.4740, 0.4800],\n",
       "        [0.1560, 0.5040, 0.3400],\n",
       "        [0.3190, 0.4510, 0.2300],\n",
       "        [0.0950, 0.5350, 0.3700],\n",
       "        [0.1710, 0.4800, 0.3490],\n",
       "        [0.1050, 0.5540, 0.3410],\n",
       "        [0.0478, 0.5443, 0.4080],\n",
       "        [0.0260, 0.4520, 0.5220],\n",
       "        [0.1140, 0.5270, 0.3590],\n",
       "        [0.0670, 0.4690, 0.4640],\n",
       "        [0.0690, 0.4970, 0.4340],\n",
       "        [0.0400, 0.4490, 0.5110],\n",
       "        [0.0741, 0.5165, 0.4094],\n",
       "        [0.0480, 0.4950, 0.4570],\n",
       "        [0.0450, 0.4850, 0.4700],\n",
       "        [0.0660, 0.5210, 0.4130],\n",
       "        [0.0671, 0.4735, 0.4595],\n",
       "        [0.0741, 0.4565, 0.4695],\n",
       "        [0.0600, 0.4890, 0.4510],\n",
       "        [0.0630, 0.5380, 0.3990],\n",
       "        [0.0250, 0.4800, 0.4950],\n",
       "        [0.0200, 0.4780, 0.5020]])"
      ]
     },
     "execution_count": 3,
     "metadata": {},
     "output_type": "execute_result"
    }
   ],
   "source": [
    "data = pd.read_csv(\"Data 5. Sand, silt, clay compositions of 39 sediment samples at different water depths in an Arctic lake.csv\")\n",
    "\n",
    "features = data[data.columns[1:-1]]\n",
    "targets = data[data.columns[-1]]\n",
    "\n",
    "features = np.array([feat/sum(feat) for feat in features.values])\n",
    "\n",
    "\n",
    "features = torch.FloatTensor(features)\n",
    "targets = torch.FloatTensor(targets)\n",
    "\n",
    "features"
   ]
  },
  {
   "cell_type": "code",
   "execution_count": 4,
   "metadata": {},
   "outputs": [
    {
     "name": "stdout",
     "output_type": "stream",
     "text": [
      "CoDA_Regress(\n",
      "  (linear): Linear(in_features=2, out_features=1, bias=True)\n",
      "  (encoder): Sequential(\n",
      "    (layer0): Linear(in_features=6, out_features=100, bias=True)\n",
      "    (final_layer): Linear(in_features=100, out_features=2, bias=True)\n",
      "    (final_ac): ELU(alpha=1.0)\n",
      "  )\n",
      "  (decoder): Sequential(\n",
      "    (layer0): Linear(in_features=2, out_features=3, bias=True)\n",
      "    (final_layer): Linear(in_features=3, out_features=3, bias=True)\n",
      "    (final_ac): ELU(alpha=1.0)\n",
      "  )\n",
      ")\n",
      "epoch 1000, loss 213.2444305419922\n",
      "epoch 2000, loss 205.6748504638672\n",
      "epoch 3000, loss 201.83148193359375\n",
      "epoch 4000, loss 197.12062072753906\n",
      "epoch 5000, loss 188.35340881347656\n",
      "epoch 6000, loss 182.3778076171875\n",
      "epoch 7000, loss 180.3216552734375\n",
      "epoch 8000, loss 174.13380432128906\n",
      "epoch 9000, loss 172.44140625\n",
      "epoch 10000, loss 172.42323303222656\n"
     ]
    },
    {
     "data": {
      "text/plain": [
       "<matplotlib.collections.PathCollection at 0x7f364190f5f8>"
      ]
     },
     "execution_count": 4,
     "metadata": {},
     "output_type": "execute_result"
    },
    {
     "data": {
      "image/png": "[encoded data removed]",
      "text/plain": [
       "<Figure size 432x288 with 1 Axes>"
      ]
     },
     "metadata": {
      "needs_background": "light"
     },
     "output_type": "display_data"
    }
   ],
   "source": [
    "#training code stub, read in data as X and targets as y\n",
    "#TODO substitute this into model class, and set up API similar to original CoDA-PCA paper\n",
    "features = torch.FloatTensor(features)\n",
    "\n",
    "X = features\n",
    "y = targets.reshape(-1,1)\n",
    "model = CodaRegress.CoDA_Regress(X.shape[1], 2, [100,], [3,])\n",
    "\n",
    "print (model)\n",
    "\n",
    "model.fit(torch.FloatTensor(X),  torch.FloatTensor(y), 0, lr=1e-3)\n",
    "\n",
    "test = model.transform(X).detach().numpy()\n",
    "plt.scatter(test[:,0], test[:,1])"
   ]
  },
  {
   "cell_type": "code",
   "execution_count": 5,
   "metadata": {},
   "outputs": [
    {
     "data": {
      "text/plain": [
       "<matplotlib.collections.PathCollection at 0x7f362c0050b8>"
      ]
     },
     "execution_count": 5,
     "metadata": {},
     "output_type": "execute_result"
    },
    {
     "data": {
      "image/png": "[encoded data removed]",
      "text/plain": [
       "<Figure size 432x288 with 1 Axes>"
      ]
     },
     "metadata": {
      "needs_background": "light"
     },
     "output_type": "display_data"
    }
   ],
   "source": [
    "from sklearn.cluster import KMeans\n",
    "\n",
    "clusters = 3\n",
    "\n",
    "clust = KMeans(clusters)\n",
    "\n",
    "clust.fit(test)\n",
    "\n",
    "labels = clust.labels_\n",
    "\n",
    "plt.scatter(test[:,0], test[:,1], c=labels)\n",
    "\n",
    "\n",
    "\n",
    "    "
   ]
  },
  {
   "cell_type": "code",
   "execution_count": 6,
   "metadata": {},
   "outputs": [
    {
     "name": "stderr",
     "output_type": "stream",
     "text": [
      "WARNING: Logging before flag parsing goes to stderr.\n",
      "W0704 11:44:11.876967 139873195521856 deprecation_wrapper.py:119] From /home/sean/Documents/Honours/honours/Code/PyTorch/CodaPCA.py:14: The name tf.logging.set_verbosity is deprecated. Please use tf.compat.v1.logging.set_verbosity instead.\n",
      "\n",
      "W0704 11:44:11.877739 139873195521856 deprecation_wrapper.py:119] From /home/sean/Documents/Honours/honours/Code/PyTorch/CodaPCA.py:14: The name tf.logging.ERROR is deprecated. Please use tf.compat.v1.logging.ERROR instead.\n",
      "\n"
     ]
    },
    {
     "name": "stdout",
     "output_type": "stream",
     "text": [
      "[epoch     0] L=  3.1313\n"
     ]
    },
    {
     "data": {
      "text/plain": [
       "<matplotlib.collections.PathCollection at 0x7f36140cb710>"
      ]
     },
     "execution_count": 6,
     "metadata": {},
     "output_type": "execute_result"
    },
    {
     "data": {
      "image/png": "[encoded data removed]",
      "text/plain": [
       "<Figure size 432x288 with 1 Axes>"
      ]
     },
     "metadata": {
      "needs_background": "light"
     },
     "output_type": "display_data"
    }
   ],
   "source": [
    "data = pd.read_csv(\"Data 5. Sand, silt, clay compositions of 39 sediment samples at different water depths in an Arctic lake.csv\")\n",
    "\n",
    "features = data[data.columns[1:-1]]\n",
    "targets = data[data.columns[-1]]\n",
    "\n",
    "features = np.array([feat/sum(feat) for feat in features.values])\n",
    "\n",
    "\n",
    "#features = torch.FloatTensor(features)\n",
    "targets = torch.FloatTensor(targets)\n",
    "\n",
    "import CodaPCA\n",
    "pca = CodaPCA.CodaPCA(2,lrate=1e-2,nn_shape=[50,50], alg=CodaPCA.Alg.CODAPCA)\n",
    "\n",
    "test2 = pca.fit_transform(features)\n",
    "\n",
    "plt.scatter(test2[:,0], test2[:,1])"
   ]
  },
  {
   "cell_type": "code",
   "execution_count": 7,
   "metadata": {},
   "outputs": [
    {
     "data": {
      "text/plain": [
       "<matplotlib.collections.PathCollection at 0x7f361402c470>"
      ]
     },
     "execution_count": 7,
     "metadata": {},
     "output_type": "execute_result"
    },
    {
     "data": {
      "image/png": "[encoded data removed]",
      "text/plain": [
       "<Figure size 432x288 with 1 Axes>"
      ]
     },
     "metadata": {
      "needs_background": "light"
     },
     "output_type": "display_data"
    }
   ],
   "source": [
    "plt.scatter(test2[:,0], test2[:,1], c=labels)\n"
   ]
  },
  {
   "cell_type": "code",
   "execution_count": 10,
   "metadata": {},
   "outputs": [
    {
     "data": {
      "text/plain": [
       "[(array([10, 11, 12, 13, 14, 15, 16, 17, 18, 19, 20, 21, 22, 23, 24, 25, 26,\n",
       "         27, 28, 29, 30, 31, 32, 33, 34, 35, 36, 37, 38]),\n",
       "  array([0, 1, 2, 3, 4, 5, 6, 7, 8, 9])),\n",
       " (array([ 0,  1,  2,  3,  4,  5,  6,  7,  8,  9, 20, 21, 22, 23, 24, 25, 26,\n",
       "         27, 28, 29, 30, 31, 32, 33, 34, 35, 36, 37, 38]),\n",
       "  array([10, 11, 12, 13, 14, 15, 16, 17, 18, 19])),\n",
       " (array([ 0,  1,  2,  3,  4,  5,  6,  7,  8,  9, 10, 11, 12, 13, 14, 15, 16,\n",
       "         17, 18, 19, 30, 31, 32, 33, 34, 35, 36, 37, 38]),\n",
       "  array([20, 21, 22, 23, 24, 25, 26, 27, 28, 29])),\n",
       " (array([ 0,  1,  2,  3,  4,  5,  6,  7,  8,  9, 10, 11, 12, 13, 14, 15, 16,\n",
       "         17, 18, 19, 20, 21, 22, 23, 24, 25, 26, 27, 28, 29]),\n",
       "  array([30, 31, 32, 33, 34, 35, 36, 37, 38]))]"
      ]
     },
     "execution_count": 10,
     "metadata": {},
     "output_type": "execute_result"
    }
   ],
   "source": [
    "kf = KFold(4)\n",
    "splits = [i for i in kf.split(features)]\n",
    "splits"
   ]
  },
  {
   "cell_type": "code",
   "execution_count": 13,
   "metadata": {
    "scrolled": true
   },
   "outputs": [
    {
     "name": "stdout",
     "output_type": "stream",
     "text": [
      "epoch 1000, loss 1581.010986328125\n",
      "epoch 2000, loss 735.8299560546875\n",
      "epoch 3000, loss 562.4757690429688\n",
      "epoch 4000, loss 550.4133911132812\n",
      "epoch 5000, loss 550.1943969726562\n",
      "epoch 6000, loss 550.2796020507812\n",
      "epoch 7000, loss 550.279541015625\n",
      "epoch 8000, loss 550.2794189453125\n",
      "epoch 9000, loss 550.2786254882812\n",
      "epoch 10000, loss 550.2799072265625\n",
      "epoch 1000, loss 155.97056579589844\n",
      "epoch 2000, loss 155.60903930664062\n",
      "epoch 3000, loss 155.6087646484375\n",
      "epoch 4000, loss 155.60850524902344\n",
      "epoch 5000, loss 121.9522933959961\n",
      "epoch 6000, loss 121.85035705566406\n",
      "epoch 7000, loss 121.76252746582031\n",
      "epoch 8000, loss 121.70085906982422\n",
      "epoch 9000, loss 121.65831756591797\n",
      "epoch 10000, loss 121.62919616699219\n",
      "epoch 1000, loss 184.516845703125\n",
      "epoch 2000, loss 183.9832000732422\n",
      "epoch 3000, loss 183.98297119140625\n",
      "epoch 4000, loss 183.98284912109375\n",
      "epoch 5000, loss 183.9828338623047\n",
      "epoch 6000, loss 183.9839630126953\n",
      "epoch 7000, loss 183.9828643798828\n",
      "epoch 8000, loss 184.01083374023438\n",
      "epoch 9000, loss 183.98275756835938\n",
      "epoch 10000, loss 183.98277282714844\n",
      "epoch 1000, loss 86.65425872802734\n",
      "epoch 2000, loss 86.65420532226562\n",
      "epoch 3000, loss 86.65418243408203\n",
      "epoch 4000, loss 86.65413665771484\n",
      "epoch 5000, loss 86.65436553955078\n",
      "epoch 6000, loss 86.65440368652344\n",
      "epoch 7000, loss 86.65414428710938\n",
      "epoch 8000, loss 86.65532684326172\n",
      "epoch 9000, loss 86.6615982055664\n",
      "epoch 10000, loss 86.65410614013672\n"
     ]
    },
    {
     "data": {
      "text/plain": [
       "[1877.3625, 664.64453, 278.76443, 1039.6063]"
      ]
     },
     "execution_count": 13,
     "metadata": {},
     "output_type": "execute_result"
    }
   ],
   "source": [
    "#training code stub, read in data as X and targets as y\n",
    "#TODO substitute this into model class, and set up API similar to original CoDA-PCA paper\n",
    "import sklearn\n",
    "\n",
    "X = features\n",
    "y = targets.reshape(-1,1)\n",
    "#define the combined loss with hyperparameter lambda\n",
    "scores = []\n",
    "for ind in splits: \n",
    "    model = CodaRegress.CoDA_Regress(X.shape[1], 2, [101,], [3,])\n",
    "    \n",
    "    #model = Ridge(1)\n",
    "    \n",
    "    model.fit(torch.FloatTensor(X[ind[0]]),  torch.FloatTensor(y[ind[0]]), 0, lr=1e-2)\n",
    "\n",
    "    y_pred = model.predict(torch.FloatTensor(X[ind[1]]))\n",
    "\n",
    "#     print(y_pred)\n",
    "#     print(y[ind[1]].detach().numpy())\n",
    "    \n",
    "    scores.append(sklearn.metrics.mean_squared_error(y[ind[1]].detach().numpy(),y_pred.detach().numpy()))\n",
    "    \n",
    "scores\n",
    "\n"
   ]
  },
  {
   "cell_type": "code",
   "execution_count": null,
   "metadata": {},
   "outputs": [],
   "source": []
  }
 ],
 "metadata": {
  "kernelspec": {
   "display_name": "Python 3",
   "language": "python",
   "name": "python3"
  },
  "language_info": {
   "codemirror_mode": {
    "name": "ipython",
    "version": 3
   },
   "file_extension": ".py",
   "mimetype": "text/x-python",
   "name": "python",
   "nbconvert_exporter": "python",
   "pygments_lexer": "ipython3",
   "version": "3.7.1"
  }
 },
 "nbformat": 4,
 "nbformat_minor": 2
}
