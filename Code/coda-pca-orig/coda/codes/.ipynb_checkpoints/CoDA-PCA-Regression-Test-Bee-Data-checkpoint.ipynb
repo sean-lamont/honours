{
 "cells": [
  {
   "cell_type": "code",
   "execution_count": 2,
   "metadata": {},
   "outputs": [],
   "source": [
    "import CodaPCA\n",
    "import numpy as np\n",
    "from runpca import read_csv\n",
    "import os\n",
    "import sklearn\n",
    "from sklearn.linear_model import Ridge\n",
    "from sklearn.linear_model import LogisticRegression\n",
    "#change module for newer sklearn versions\n",
    "from sklearn.model_selection  import cross_val_score\n",
    "from sklearn.model_selection  import KFold\n",
    "import matplotlib.pyplot as plt\n",
    "import pandas as pd"
   ]
  },
  {
   "cell_type": "code",
   "execution_count": 3,
   "metadata": {},
   "outputs": [],
   "source": [
    "#read in the data. Given an array of which files are regression, classification or unlabelled\n",
    "data_path = os.getcwd() + \"\\\\Aitchinson\"\n",
    "\n",
    "regression_list = [3,4,5,18,21,34,39]\n",
    "classification_list = [7,8,9,11,12,16,17,19,23,24,25,26,28,29,33,37]\n",
    "unlabelled_list=[1,2,6,10,13,14,15,20,22,27,30,31,32,35,36,38,40]\n",
    "\n",
    "r_files = []\n",
    "c_files = []\n",
    "u_files = []\n",
    "\n",
    "\n",
    "for file in os.listdir(data_path):\n",
    "    for i in regression_list:\n",
    "        if os.path.isfile(os.path.join(data_path,file)) and 'Data ' + str(i) + '.' in file:\n",
    "            r_files.append(\"Aitchinson/\" + file)\n",
    "    for i in classification_list:\n",
    "        if os.path.isfile(os.path.join(data_path,file)) and 'Data ' + str(i) + '.' in file:\n",
    "            c_files.append(\"Aitchinson/\" + file)\n",
    "    for i in unlabelled_list:\n",
    "        if os.path.isfile(os.path.join(data_path,file)) and 'Data ' + str(i) + '.' in file:\n",
    "            u_files.append(\"Aitchinson/\" + file)"
   ]
  },
  {
   "cell_type": "code",
   "execution_count": 30,
   "metadata": {},
   "outputs": [
    {
     "name": "stdout",
     "output_type": "stream",
     "text": [
      "loading Aitchinson/Data 18. Compositions and total pebble counts of 92 glacial tills.csv...\n",
      "92 samples 5 features\n",
      "sparsity: 10.434782608695652%\n",
      "[epoch     0] L=  1.4964\n",
      "[38009.637]\n",
      "[38009.637, 37350.55]\n",
      "[38009.637, 37350.55, 86798.73]\n",
      "[38009.637, 37350.55, 86798.73, 44792.29]\n",
      "[38348.81]\n",
      "[38348.81, 36041.156]\n",
      "[38348.81, 36041.156, 91151.234]\n",
      "[38348.81, 36041.156, 91151.234, 46575.176]\n",
      "[37772.117]\n",
      "[37772.117, 36544.996]\n",
      "[37772.117, 36544.996, 89613.016]\n",
      "[37772.117, 36544.996, 89613.016, 46684.05]\n",
      "loading Aitchinson/Data 21. Permeabilities of bayesite for 21 mixtures of fibres and bonding pressures..csv...\n",
      "21 samples 6 features\n",
      "sparsity: 0.0%\n",
      "[epoch     0] L=  4.1144\n",
      "[4.5056176]\n",
      "[4.5056176, 7.2917356]\n",
      "[4.5056176, 7.2917356, 5.11975]\n",
      "[4.5056176, 7.2917356, 5.11975, 3.7048423]\n",
      "[4.5172668]\n",
      "[4.5172668, 7.288266]\n",
      "[4.5172668, 7.288266, 5.090907]\n",
      "[4.5172668, 7.288266, 5.090907, 3.68751]\n",
      "[4.5017495]\n",
      "[4.5017495, 7.2919145]\n",
      "[4.5017495, 7.2919145, 5.0983486]\n",
      "[4.5017495, 7.2919145, 5.0983486, 3.6929336]\n",
      "loading Aitchinson/Data 3. Compositions and depths of 25 specimens of boxite (Percentages by weight).csv...\n",
      "25 samples 6 features\n",
      "sparsity: 0.0%\n",
      "[epoch     0] L=  7.3301\n",
      "[160.24203]\n",
      "[160.24203, 13.742604]\n",
      "[160.24203, 13.742604, 24.12155]\n",
      "[160.24203, 13.742604, 24.12155, 159.18721]\n",
      "[160.22293]\n",
      "[160.22293, 13.775093]\n",
      "[160.22293, 13.775093, 24.047392]\n",
      "[160.22293, 13.775093, 24.047392, 159.17717]\n",
      "[160.25475]\n",
      "[160.25475, 13.741725]\n",
      "[160.25475, 13.741725, 24.122057]\n",
      "[160.25475, 13.741725, 24.122057, 159.16808]\n",
      "loading Aitchinson/Data 34. Foraminiferal compositions at 30 different depths.csv...\n",
      "30 samples 5 features\n",
      "sparsity: 3.3333333333333335%\n",
      "[epoch     0] L=  7.6364\n",
      "[230.29523]\n",
      "[230.29523, 22.022587]\n",
      "[230.29523, 22.022587, 38.64874]\n",
      "[230.29523, 22.022587, 38.64874, 229.69698]\n",
      "[212.0833]\n",
      "[212.0833, 17.84351]\n",
      "[212.0833, 17.84351, 73.57329]\n",
      "[212.0833, 17.84351, 73.57329, 246.33154]\n",
      "[230.17953]\n",
      "[230.17953, 21.89151]\n",
      "[230.17953, 21.89151, 38.426308]\n",
      "[230.17953, 21.89151, 38.426308, 228.93114]\n",
      "loading Aitchinson/Data 39. Microhardness of 18 glass specimens and their (Ge, Sb, Se) compositions.csv...\n",
      "18 samples 4 features\n",
      "sparsity: 0.0%\n",
      "[epoch     0] L=  3.2750\n",
      "[0.06144446]\n",
      "[0.06144446, 0.0039161886]\n",
      "[0.06144446, 0.0039161886, 0.010735109]\n",
      "[0.06144446, 0.0039161886, 0.010735109, 0.056462206]\n",
      "[0.060506113]\n",
      "[0.060506113, 0.0038533728]\n",
      "[0.060506113, 0.0038533728, 0.0099628195]\n",
      "[0.060506113, 0.0038533728, 0.0099628195, 0.05535987]\n",
      "[0.06243059]\n",
      "[0.06243059, 0.0039659482]\n",
      "[0.06243059, 0.0039659482, 0.011303257]\n",
      "[0.06243059, 0.0039659482, 0.011303257, 0.05774308]\n",
      "loading Aitchinson/Data 4. Compositions, depths and porosities of 25 specimens of coxite (Percentages by weight).csv...\n",
      "25 samples 7 features\n",
      "sparsity: 0.0%\n",
      "[epoch     0] L=  6.0607\n",
      "[160.25008]\n",
      "[160.25008, 13.738045]\n",
      "[160.25008, 13.738045, 24.12148]\n",
      "[160.25008, 13.738045, 24.12148, 159.1683]\n",
      "[160.20894]\n",
      "[160.20894, 13.718182]\n",
      "[160.20894, 13.718182, 24.081589]\n",
      "[160.20894, 13.718182, 24.081589, 159.13301]\n",
      "[160.2496]\n",
      "[160.2496, 13.736397]\n",
      "[160.2496, 13.736397, 24.124407]\n",
      "[160.2496, 13.736397, 24.124407, 159.16609]\n",
      "loading Aitchinson/Data 5. Sand, silt, clay compositions of 39 sediment samples at different water depths in an Arctic lake.csv...\n",
      "39 samples 4 features\n",
      "sparsity: 0.0%\n",
      "[epoch     0] L=  3.8628\n",
      "[1482.1116]\n",
      "[1482.1116, 318.3801]\n",
      "[1482.1116, 318.3801, 135.07938]\n",
      "[1482.1116, 318.3801, 135.07938, 2392.3171]\n",
      "[1160.9021]\n",
      "[1160.9021, 291.1528]\n",
      "[1160.9021, 291.1528, 83.87587]\n",
      "[1160.9021, 291.1528, 83.87587, 2103.9946]\n",
      "[1837.7295]\n",
      "[1837.7295, 403.7649]\n",
      "[1837.7295, 403.7649, 241.57817]\n",
      "[1837.7295, 403.7649, 241.57817, 2755.8904]\n"
     ]
    }
   ],
   "source": [
    "\n",
    "#need to specify where the the targets and features are in the dataset, and whether there are non compositional features\n",
    "\n",
    "def PCA_Regression(data, co_feature_indices, target_index, \n",
    "                   other_feature_indices = [], alg=CodaPCA.Alg.CODAPCA, verbose=False):\n",
    "    \n",
    "    #can loop through/optimise this in another way?\n",
    "    \n",
    "    headers = data[1]\n",
    "    features = data[0][:,co_feature_indices]\n",
    "    targets = data[0][:,target_index]\n",
    "    \n",
    "    #normalise the compositional features. TODO anything extra to deal with non compositional features?\n",
    "    features = np.array([feat/sum(feat) for feat in features])\n",
    "\n",
    "    #can be empty\n",
    "    extra_features = data[0][:,other_feature_indices]\n",
    "    \n",
    "    #TODO double check this\n",
    "    features = np.hstack([features, extra_features])\n",
    "    \n",
    "    #compute the CoDA-PCA projection \n",
    "    #TODO add component number as a hyperparameter to optimise \n",
    "    n_components=len(co_feature_indices)-2\n",
    "\n",
    "    pca = CodaPCA.CodaPCA(n_components,lrate=1e-4,nn_shape=[100,100], alg=alg)\n",
    "    #TODO: check why this is numerically unstable\n",
    "    #pca = CodaPCA.NonParametricCodaPCA(n_components)\n",
    "\n",
    "    pca.fit(features)\n",
    "    \n",
    "    Y_coda = pca.transform(features)\n",
    "\n",
    "    pca_clr = CodaPCA.CLRPCA(n_components)\n",
    "    pca_clr.fit(features)\n",
    "    \n",
    "    Y_clr = pca_clr.transform(features)\n",
    "    \n",
    "\n",
    "    lm = Ridge()\n",
    "    #exp the projection to get out of clr space\n",
    "    coda_score = enhanced_cross_val(lm,Y_coda, targets)\n",
    "    clr_score = enhanced_cross_val(lm,Y_clr, targets) \n",
    "    naive_score = enhanced_cross_val(lm, features, targets)\n",
    "\n",
    "\n",
    "    if verbose:\n",
    "        print(\"CoDA-PCA:\")\n",
    "        print(coda_score)\n",
    "        print(\"CLR-PCA:\")\n",
    "        print(clr_score)\n",
    "        print (\"Naive regression:\")\n",
    "        print (naive_score)\n",
    "    \n",
    "\n",
    "    return coda_score,clr_score,naive_score\n",
    "\n",
    "#training methodology as described in:\n",
    "#https://papers.nips.cc/paper/3215-learning-with-transformation-invariant-kernels.pdf\n",
    "def enhanced_cross_val(model, features, targets):\n",
    "    assert len(features) == len(targets), \"Mismatch in length of features and targets\"\n",
    "    \n",
    "    #define the number of splits and folds uised in the parameter selection\n",
    "    #stick to smaller splits since we have small datasets\n",
    "    splits = 4\n",
    "    param_splits = 3\n",
    "    \n",
    "    #split data \n",
    "    kf = KFold(splits)\n",
    "    kfold_scores = []\n",
    "    for train, test in kf.split(features):        \n",
    "        Y_train = targets[train]\n",
    "        X_train = features[train]\n",
    "        \n",
    "       \n",
    "        Y_test = targets[test]\n",
    "        X_test = features[test]\n",
    "        \n",
    "        #inner loop for parameter selection (regularisation term in Ridge Regression):\n",
    "        param_grid = [0.01,0.05,0.1,0.5,1.0,2.0,5.0,10.0,20.0,100.0]\n",
    "        for a in param_grid:\n",
    "            max_score = -np.inf\n",
    "            lm = Ridge(a)\n",
    "   \n",
    "            curr_score = np.mean(cross_val_score(lm, X_train, Y_train,cv=param_splits))\n",
    "            if curr_score > max_score:\n",
    "                max_score = curr_score\n",
    "                best_param = a\n",
    "        \n",
    "        #compute test score based on best parameter\n",
    "        lm = Ridge(best_param)\n",
    "        lm.fit(X_train, Y_train)\n",
    "        y_pred = lm.predict(X_test)\n",
    "        kfold_scores.append(sklearn.metrics.mean_squared_error(Y_test,y_pred))\n",
    "        \n",
    "        print (kfold_scores)\n",
    "        \n",
    "    return kfold_scores\n",
    "\n",
    "\n",
    "\n",
    "#can automate this if we had assume a certain structure for the indices of features and targets, or an array per dataset \n",
    "\n",
    "score_dict = {}\n",
    "\n",
    "data_18_scores = PCA_Regression(read_csv(r_files[0], normalize=False), co_feature_indices=[0,1,2,3], target_index=4)\n",
    "#other \"target\" also at 5\n",
    "score_dict['18'] = data_18_scores\n",
    "\n",
    "data_21_scores = PCA_Regression(read_csv(r_files[1], normalize=False), co_feature_indices=[0,1,2,3], target_index=4) \n",
    "score_dict['21'] = data_21_scores\n",
    "\n",
    "data_3_scores = PCA_Regression(read_csv(r_files[2], normalize=False), co_feature_indices=[0,1,2,3,4], target_index=5) \n",
    "score_dict['3'] = data_3_scores\n",
    "\n",
    "data_34_scores = PCA_Regression(read_csv(r_files[3], normalize=False), co_feature_indices=[0,1,2,3], target_index=4)\n",
    "score_dict['34'] = data_34_scores\n",
    "\n",
    "data_39_scores = PCA_Regression(read_csv(r_files[4], normalize=False), co_feature_indices=[0,1,2], target_index=3)\n",
    "score_dict['39'] = data_39_scores\n",
    "\n",
    "data_4_scores = PCA_Regression(read_csv(r_files[5], normalize=False), co_feature_indices=[0,1,2,3,4], target_index=5)\n",
    "score_dict['4'] = data_4_scores\n",
    "\n",
    "data_5_scores =PCA_Regression(read_csv(r_files[6], normalize=False), co_feature_indices=[0,1,2], target_index=3)\n",
    "score_dict['5'] = data_5_scores\n"
   ]
  },
  {
   "cell_type": "code",
   "execution_count": 29,
   "metadata": {
    "scrolled": true
   },
   "outputs": [
    {
     "data": {
      "text/html": [
       "<script type=\"text/javascript\">window.PlotlyConfig = {MathJaxConfig: 'local'};</script><script type=\"text/javascript\">if (window.MathJax) {MathJax.Hub.Config({SVG: {font: \"STIX-Web\"}});}</script><script>requirejs.config({paths: { 'plotly': ['https://cdn.plot.ly/plotly-latest.min']},});if(!window._Plotly) {require(['plotly'],function(plotly) {window._Plotly=plotly;});}</script>"
      ],
      "text/vnd.plotly.v1+html": [
       "<script type=\"text/javascript\">window.PlotlyConfig = {MathJaxConfig: 'local'};</script><script type=\"text/javascript\">if (window.MathJax) {MathJax.Hub.Config({SVG: {font: \"STIX-Web\"}});}</script><script>requirejs.config({paths: { 'plotly': ['https://cdn.plot.ly/plotly-latest.min']},});if(!window._Plotly) {require(['plotly'],function(plotly) {window._Plotly=plotly;});}</script>"
      ]
     },
     "metadata": {},
     "output_type": "display_data"
    },
    {
     "data": {
      "application/vnd.plotly.v1+json": {
       "config": {
        "linkText": "Export to plot.ly",
        "plotlyServerURL": "https://plot.ly",
        "showLink": false
       },
       "data": [
        {
         "cells": {
          "values": [
           [
            "18",
            "21",
            "3",
            "34",
            "39",
            "4",
            "5"
           ],
           [
            "50681.086",
            "5.1508956",
            "89.31974",
            "130.44997",
            "0.033311393",
            "89.302185",
            "965.2013"
           ],
           [
            "53029.094",
            "5.145987",
            "89.30565",
            "137.45792",
            "0.032420546",
            "89.28543",
            "909.9813"
           ],
           [
            "52653.543",
            "5.146237",
            "89.321655",
            "129.85712",
            "0.03386072",
            "89.31912",
            "1309.7407"
           ]
          ]
         },
         "header": {
          "values": [
           "Dataset",
           "CoDA-PCA",
           "CLR-PCA",
           "Naive Regression"
          ]
         },
         "type": "table",
         "uid": "530c5593-3a09-49ef-97b5-6c3ccafce33e"
        }
       ],
       "layout": {}
      },
      "text/html": [
       "<div id=\"556300dc-57eb-4037-94b8-b2297f9723e8\" style=\"height: 525px; width: 100%;\" class=\"plotly-graph-div\"></div><script type=\"text/javascript\">require([\"plotly\"], function(Plotly) { window.PLOTLYENV=window.PLOTLYENV || {};window.PLOTLYENV.BASE_URL=\"https://plot.ly\";\n",
       "if (document.getElementById(\"556300dc-57eb-4037-94b8-b2297f9723e8\")) {\n",
       "    Plotly.newPlot(\"556300dc-57eb-4037-94b8-b2297f9723e8\", [{\"cells\": {\"values\": [[\"18\", \"21\", \"3\", \"34\", \"39\", \"4\", \"5\"], [\"50681.086\", \"5.1508956\", \"89.31974\", \"130.44997\", \"0.033311393\", \"89.302185\", \"965.2013\"], [\"53029.094\", \"5.145987\", \"89.30565\", \"137.45792\", \"0.032420546\", \"89.28543\", \"909.9813\"], [\"52653.543\", \"5.146237\", \"89.321655\", \"129.85712\", \"0.03386072\", \"89.31912\", \"1309.7407\"]]}, \"header\": {\"values\": [\"Dataset\", \"CoDA-PCA\", \"CLR-PCA\", \"Naive Regression\"]}, \"type\": \"table\", \"uid\": \"1f544ac9-189a-40c4-9334-b5fd994e5d13\"}], {}, {\"showLink\": false, \"linkText\": \"Export to plot.ly\", \"plotlyServerURL\": \"https://plot.ly\"}); \n",
       "}\n",
       "});</script><script type=\"text/javascript\">window.addEventListener(\"resize\", function(){if (document.getElementById(\"556300dc-57eb-4037-94b8-b2297f9723e8\")) {window._Plotly.Plots.resize(document.getElementById(\"556300dc-57eb-4037-94b8-b2297f9723e8\"));};})</script>"
      ],
      "text/vnd.plotly.v1+html": [
       "<div id=\"556300dc-57eb-4037-94b8-b2297f9723e8\" style=\"height: 525px; width: 100%;\" class=\"plotly-graph-div\"></div><script type=\"text/javascript\">require([\"plotly\"], function(Plotly) { window.PLOTLYENV=window.PLOTLYENV || {};window.PLOTLYENV.BASE_URL=\"https://plot.ly\";\n",
       "if (document.getElementById(\"556300dc-57eb-4037-94b8-b2297f9723e8\")) {\n",
       "    Plotly.newPlot(\"556300dc-57eb-4037-94b8-b2297f9723e8\", [{\"cells\": {\"values\": [[\"18\", \"21\", \"3\", \"34\", \"39\", \"4\", \"5\"], [\"50681.086\", \"5.1508956\", \"89.31974\", \"130.44997\", \"0.033311393\", \"89.302185\", \"965.2013\"], [\"53029.094\", \"5.145987\", \"89.30565\", \"137.45792\", \"0.032420546\", \"89.28543\", \"909.9813\"], [\"52653.543\", \"5.146237\", \"89.321655\", \"129.85712\", \"0.03386072\", \"89.31912\", \"1309.7407\"]]}, \"header\": {\"values\": [\"Dataset\", \"CoDA-PCA\", \"CLR-PCA\", \"Naive Regression\"]}, \"type\": \"table\", \"uid\": \"1f544ac9-189a-40c4-9334-b5fd994e5d13\"}], {}, {\"showLink\": false, \"linkText\": \"Export to plot.ly\", \"plotlyServerURL\": \"https://plot.ly\"}); \n",
       "}\n",
       "});</script><script type=\"text/javascript\">window.addEventListener(\"resize\", function(){if (document.getElementById(\"556300dc-57eb-4037-94b8-b2297f9723e8\")) {window._Plotly.Plots.resize(document.getElementById(\"556300dc-57eb-4037-94b8-b2297f9723e8\"));};})</script>"
      ]
     },
     "metadata": {},
     "output_type": "display_data"
    }
   ],
   "source": [
    "#note: plotly code works fine, but gives a jupyter warning when saving with a rendered table\n",
    "\n",
    "import plotly.graph_objs as go\n",
    "from plotly.offline import download_plotlyjs, init_notebook_mode, plot, iplot\n",
    "\n",
    "\n",
    "init_notebook_mode(connected=True)\n",
    "\n",
    "\n",
    "table_rows = []\n",
    "for key in score_dict.keys():\n",
    "    mean_scores = list(map(np.mean, score_dict[key]))\n",
    "    table_rows.append([key,*mean_scores])\n",
    "    \n",
    "results = [go.Table(\n",
    "    header=dict(values=[\"Dataset\",\"CoDA-PCA\", \"CLR-PCA\", \"Naive Regression\"]),\n",
    "    cells=dict(values=np.array(table_rows).T))]\n",
    "\n",
    "iplot(results, filename = 'basic_table')    \n",
    "    \n"
   ]
  },
  {
   "cell_type": "code",
   "execution_count": 5,
   "metadata": {},
   "outputs": [],
   "source": [
    "def PCA_Classification(data, co_feature_indices, target_index, \n",
    "                   other_feature_indices = [], alg=CodaPCA.Alg.CODAPCA, verbose=False):\n",
    "       #can loop through/optimise this in another way?\n",
    "    \n",
    "    headers = data[1]\n",
    "    features = data[0][:,co_feature_indices]\n",
    "    targets = data[0][:,target_index]\n",
    "    \n",
    "    #normalise the compositional features. TODO anything extra to deal with non compositional features?\n",
    "    features = np.array([feat/sum(feat) for feat in features])\n",
    "\n",
    "    #can be empty\n",
    "    extra_features = data[0][:,other_feature_indices]\n",
    "    \n",
    "    #TODO double check this\n",
    "    features = np.hstack([features, extra_features])\n",
    "    \n",
    "    #compute the CoDA-PCA projection \n",
    "    #TODO add component number as a hyperparameter to optimise \n",
    "    n_components=len(co_feature_indices)-2\n",
    "\n",
    "    pca = CodaPCA.CodaPCA(n_components,lrate=1e-3,nn_shape=[100,100], alg=alg)\n",
    "    #TODO: check why this is numerically unstable\n",
    "    #pca = CodaPCA.NonParametricCodaPCA(n_components)\n",
    "\n",
    "    pca.fit(features)\n",
    "    \n",
    "    Y_coda = pca.project(features)\n",
    "\n",
    "    pca_clr = CodaPCA.CLRPCA(n_components)\n",
    "    pca_clr.fit(features)\n",
    "    \n",
    "    Y_clr = pca_clr.project(features)\n",
    "\n",
    "    classifier = LogisticRegression()\n",
    "    #exp the projection to get out of clr space\n",
    "    coda_score = enhanced_cross_val(classifier,np.exp(Y_coda), targets)\n",
    "    clr_score = enhanced_cross_val(classifier,np.exp(Y_clr), targets) \n",
    "    naive_score = enhanced_cross_val(classifier, features, targets)\n",
    "\n",
    "\n",
    "    if verbose:\n",
    "        print(\"CoDA-PCA:\")\n",
    "        print(coda_score)\n",
    "        print(\"CLR-PCA:\")\n",
    "        print(clr_score)\n",
    "        print (\"Naive Classification:\")\n",
    "        print (naive_score)\n",
    "    \n",
    "\n",
    "    return coda_score,clr_score,naive_score\n",
    "\n",
    "    \n",
    "    \n",
    "    "
   ]
  },
  {
   "cell_type": "code",
   "execution_count": 6,
   "metadata": {},
   "outputs": [
    {
     "name": "stdout",
     "output_type": "stream",
     "text": [
      "[epoch     0] L=  2.1775\n"
     ]
    },
    {
     "data": {
      "image/png": "[encoded data removed]",
      "text/plain": [
       "<Figure size 432x288 with 1 Axes>"
      ]
     },
     "metadata": {
      "needs_background": "light"
     },
     "output_type": "display_data"
    },
    {
     "name": "stdout",
     "output_type": "stream",
     "text": [
      "Aitchinson/Data 9. Urinary excretions (mg_per_24hr) of steroid metabolites for 37 adults and 30 normal children.csv\n"
     ]
    }
   ],
   "source": [
    "%matplotlib inline\n",
    "\n",
    "data_9 = pd.read_csv(c_files[-1])\n",
    "adult_inds = np.where(data_9['Adult/Child'] == 'A')\n",
    "child_inds = np.where(data_9['Adult/Child'] == 'C')\n",
    "\n",
    "adult = data_9.to_numpy()[adult_inds]\n",
    "child = data_9.to_numpy()[child_inds]\n",
    "features = data_9[data_9.columns[2:]].to_numpy()\n",
    "\n",
    "\n",
    "features = np.array([feat/sum(feat) for feat in features])\n",
    "\n",
    "\n",
    "\n",
    "# pca_clr = CodaPCA.CLRPCA(2)\n",
    "# pca_clr.fit(features)\n",
    "# test = pca_clr.transform(features)\n",
    "\n",
    "pca = CodaPCA.CodaPCA(2,lrate=1e-3,nn_shape=[100,100], alg=CodaPCA.Alg.CODAAE)\n",
    "pca.fit(features)\n",
    "test = pca.transform(features)\n",
    "\n",
    "plt.scatter(x = test[adult_inds][:,0], y = test[adult_inds][:,1], c =\"red\")\n",
    "plt.scatter(x = test[child_inds][:,0], y = test[child_inds][:,1], c =\"orange\")\n",
    "\n",
    "\n",
    "plt.show()\n",
    "\n",
    "print(c_files[-1])\n"
   ]
  },
  {
   "cell_type": "code",
   "execution_count": 7,
   "metadata": {},
   "outputs": [
    {
     "name": "stdout",
     "output_type": "stream",
     "text": [
      "[epoch     0] L=-692.9231\n"
     ]
    },
    {
     "data": {
      "image/png": "[encoded data removed]",
      "text/plain": [
       "<Figure size 432x288 with 1 Axes>"
      ]
     },
     "metadata": {
      "needs_background": "light"
     },
     "output_type": "display_data"
    },
    {
     "data": {
      "text/plain": [
       "array([16.24581  , 23.00666  , 23.036308 , 14.03831  , 22.16052  ,\n",
       "       17.651535 , 29.695541 , 15.7815075, 12.244965 , 11.42273  ,\n",
       "       24.654572 , 17.481249 , 13.961815 , 13.933821 ], dtype=float32)"
      ]
     },
     "execution_count": 7,
     "metadata": {},
     "output_type": "execute_result"
    }
   ],
   "source": [
    "%matplotlib inline\n",
    "import pandas as pd\n",
    "bee_data = pd.read_csv(\"beeMicrobiome.csv\")\n",
    "bee_classes = bee_data[bee_data.columns[3:]]\n",
    "\n",
    "\n",
    "#group into classes\n",
    "apiary_a = np.where(bee_classes['Apiary'] == 'A')\n",
    "apiary_b = np.where(bee_classes['Apiary'] == 'B')\n",
    "apiary_c = np.where(bee_classes['Apiary'] == 'C')\n",
    "apiary_d = np.where(bee_classes['Apiary'] == 'D')\n",
    "apiary_e = np.where(bee_classes['Apiary'] == 'E')\n",
    "\n",
    "bee_features = bee_classes.to_numpy()[:,1:]\n",
    "\n",
    "\n",
    "bee_features = np.array([feat/sum(feat) for feat in bee_features])\n",
    "\n",
    "\n",
    "pca = CodaPCA.CodaPCA(2,lrate=1e-3,nn_shape=[100,100], alg=CodaPCA.Alg.CODAPCA)\n",
    "pca.fit(bee_features)\n",
    "test = pca.transform(bee_features)\n",
    "\n",
    "plt.scatter(x = test[apiary_a][:,0], y = test[apiary_a][:,1], c =\"red\")\n",
    "plt.scatter(x = test[apiary_b][:,0], y = test[apiary_b][:,1], c =\"orange\")\n",
    "plt.scatter(x = test[apiary_c][:,0], y = test[apiary_c][:,1], c =\"yellow\")\n",
    "plt.scatter(x = test[apiary_d][:,0], y = test[apiary_d][:,1], c =\"green\")\n",
    "plt.scatter(x = test[apiary_e][:,0], y = test[apiary_e][:,1], c =\"blue\")\n",
    "\n",
    "plt.show()\n",
    "\n",
    "test[apiary_a][:,0]"
   ]
  },
  {
   "cell_type": "code",
   "execution_count": 8,
   "metadata": {},
   "outputs": [
    {
     "name": "stdout",
     "output_type": "stream",
     "text": [
      "[epoch     0] L=-4633.8511\n"
     ]
    },
    {
     "data": {
      "text/plain": [
       "<mpl_toolkits.mplot3d.art3d.Path3DCollection at 0x2b73ed7a400>"
      ]
     },
     "execution_count": 8,
     "metadata": {},
     "output_type": "execute_result"
    },
    {
     "data": {
      "image/png": "[encoded data removed]",
      "text/plain": [
       "<Figure size 432x288 with 1 Axes>"
      ]
     },
     "metadata": {
      "needs_background": "light"
     },
     "output_type": "display_data"
    }
   ],
   "source": [
    "import matplotlib.pyplot as plt\n",
    "from mpl_toolkits.mplot3d import Axes3D\n",
    "fig = plt.figure()\n",
    "ax = fig.add_subplot(111, projection='3d')\n",
    "\n",
    "\n",
    "\n",
    "pca = CodaPCA.CodaPCA(3,lrate=1e-3,nn_shape=[100,100], alg=CodaPCA.Alg.CODAPCA)\n",
    "pca.fit(bee_features)\n",
    "test = pca.transform(bee_features)\n",
    "\n",
    "ax.scatter(xs = test[apiary_a][:,0], ys = test[apiary_a][:,1], zs = test[apiary_a][:,2],c =\"red\")\n",
    "ax.scatter(xs = test[apiary_b][:,0], ys = test[apiary_b][:,1],zs = test[apiary_b][:,2], c =\"orange\")\n",
    "ax.scatter(xs = test[apiary_c][:,0], ys = test[apiary_c][:,1],zs = test[apiary_c][:,2], c =\"yellow\")\n",
    "ax.scatter(xs = test[apiary_d][:,0], ys = test[apiary_d][:,1],zs = test[apiary_d][:,2], c =\"green\")\n",
    "ax.scatter(xs = test[apiary_e][:,0], ys = test[apiary_e][:,1],zs = test[apiary_e][:,2], c =\"blue\")"
   ]
  },
  {
   "cell_type": "code",
   "execution_count": 9,
   "metadata": {},
   "outputs": [
    {
     "name": "stdout",
     "output_type": "stream",
     "text": [
      "[epoch     0] L=-2339.1274\n"
     ]
    },
    {
     "data": {
      "image/png": "[encoded data removed]",
      "text/plain": [
       "<Figure size 432x288 with 1 Axes>"
      ]
     },
     "metadata": {
      "needs_background": "light"
     },
     "output_type": "display_data"
    }
   ],
   "source": [
    "pca = CodaPCA.CodaPCA(1,lrate=1e-3,nn_shape=[100,100], alg=CodaPCA.Alg.CODAPCA)\n",
    "pca.fit(bee_features)\n",
    "test = pca.transform(bee_features)\n",
    "\n",
    "\n",
    "y = np.zeros(len(test[apiary_a]))\n",
    "plt.scatter(test[apiary_a], y = np.zeros(len(test[apiary_a])), c =\"red\")\n",
    "plt.scatter(test[apiary_b], y = np.zeros(len(test[apiary_b])),c =\"orange\")\n",
    "plt.scatter(test[apiary_c],  y = np.zeros(len(test[apiary_c])),c =\"yellow\")\n",
    "plt.scatter(test[apiary_d],  y = np.zeros(len(test[apiary_d])),c =\"green\")\n",
    "plt.scatter(test[apiary_e], y = np.zeros(len(test[apiary_e])), c =\"blue\")\n",
    "\n",
    "plt.show()\n",
    "\n"
   ]
  },
  {
   "cell_type": "code",
   "execution_count": 10,
   "metadata": {},
   "outputs": [
    {
     "ename": "FileNotFoundError",
     "evalue": "[Errno 2] File b'wine.data' does not exist: b'wine.data'",
     "output_type": "error",
     "traceback": [
      "\u001b[1;31m---------------------------------------------------------------------------\u001b[0m",
      "\u001b[1;31mFileNotFoundError\u001b[0m                         Traceback (most recent call last)",
      "\u001b[1;32m<ipython-input-10-81dac6084ef2>\u001b[0m in \u001b[0;36m<module>\u001b[1;34m\u001b[0m\n\u001b[1;32m----> 1\u001b[1;33m \u001b[0mwine\u001b[0m \u001b[1;33m=\u001b[0m \u001b[0mpd\u001b[0m\u001b[1;33m.\u001b[0m\u001b[0mread_csv\u001b[0m\u001b[1;33m(\u001b[0m\u001b[1;34m\"wine.data\"\u001b[0m\u001b[1;33m,\u001b[0m \u001b[0mheader\u001b[0m\u001b[1;33m=\u001b[0m\u001b[1;32mNone\u001b[0m\u001b[1;33m)\u001b[0m\u001b[1;33m\u001b[0m\u001b[1;33m\u001b[0m\u001b[0m\n\u001b[0m\u001b[0;32m      2\u001b[0m \u001b[0mwine_1\u001b[0m \u001b[1;33m=\u001b[0m \u001b[0mnp\u001b[0m\u001b[1;33m.\u001b[0m\u001b[0mwhere\u001b[0m\u001b[1;33m(\u001b[0m\u001b[0mwine\u001b[0m\u001b[1;33m[\u001b[0m\u001b[1;36m0\u001b[0m\u001b[1;33m]\u001b[0m \u001b[1;33m==\u001b[0m \u001b[1;36m1\u001b[0m\u001b[1;33m)\u001b[0m\u001b[1;33m\u001b[0m\u001b[1;33m\u001b[0m\u001b[0m\n\u001b[0;32m      3\u001b[0m \u001b[0mwine_2\u001b[0m \u001b[1;33m=\u001b[0m \u001b[0mnp\u001b[0m\u001b[1;33m.\u001b[0m\u001b[0mwhere\u001b[0m\u001b[1;33m(\u001b[0m\u001b[0mwine\u001b[0m\u001b[1;33m[\u001b[0m\u001b[1;36m0\u001b[0m\u001b[1;33m]\u001b[0m \u001b[1;33m==\u001b[0m \u001b[1;36m2\u001b[0m\u001b[1;33m)\u001b[0m\u001b[1;33m\u001b[0m\u001b[1;33m\u001b[0m\u001b[0m\n\u001b[0;32m      4\u001b[0m \u001b[0mwine_3\u001b[0m \u001b[1;33m=\u001b[0m \u001b[0mnp\u001b[0m\u001b[1;33m.\u001b[0m\u001b[0mwhere\u001b[0m\u001b[1;33m(\u001b[0m\u001b[0mwine\u001b[0m\u001b[1;33m[\u001b[0m\u001b[1;36m0\u001b[0m\u001b[1;33m]\u001b[0m \u001b[1;33m==\u001b[0m \u001b[1;36m3\u001b[0m\u001b[1;33m)\u001b[0m\u001b[1;33m\u001b[0m\u001b[1;33m\u001b[0m\u001b[0m\n\u001b[0;32m      5\u001b[0m \u001b[1;33m\u001b[0m\u001b[0m\n",
      "\u001b[1;32mc:\\users\\u5801283\\appdata\\local\\continuum\\anaconda3\\envs\\honours\\lib\\site-packages\\pandas\\io\\parsers.py\u001b[0m in \u001b[0;36mparser_f\u001b[1;34m(filepath_or_buffer, sep, delimiter, header, names, index_col, usecols, squeeze, prefix, mangle_dupe_cols, dtype, engine, converters, true_values, false_values, skipinitialspace, skiprows, skipfooter, nrows, na_values, keep_default_na, na_filter, verbose, skip_blank_lines, parse_dates, infer_datetime_format, keep_date_col, date_parser, dayfirst, iterator, chunksize, compression, thousands, decimal, lineterminator, quotechar, quoting, doublequote, escapechar, comment, encoding, dialect, tupleize_cols, error_bad_lines, warn_bad_lines, delim_whitespace, low_memory, memory_map, float_precision)\u001b[0m\n\u001b[0;32m    700\u001b[0m                     skip_blank_lines=skip_blank_lines)\n\u001b[0;32m    701\u001b[0m \u001b[1;33m\u001b[0m\u001b[0m\n\u001b[1;32m--> 702\u001b[1;33m         \u001b[1;32mreturn\u001b[0m \u001b[0m_read\u001b[0m\u001b[1;33m(\u001b[0m\u001b[0mfilepath_or_buffer\u001b[0m\u001b[1;33m,\u001b[0m \u001b[0mkwds\u001b[0m\u001b[1;33m)\u001b[0m\u001b[1;33m\u001b[0m\u001b[1;33m\u001b[0m\u001b[0m\n\u001b[0m\u001b[0;32m    703\u001b[0m \u001b[1;33m\u001b[0m\u001b[0m\n\u001b[0;32m    704\u001b[0m     \u001b[0mparser_f\u001b[0m\u001b[1;33m.\u001b[0m\u001b[0m__name__\u001b[0m \u001b[1;33m=\u001b[0m \u001b[0mname\u001b[0m\u001b[1;33m\u001b[0m\u001b[1;33m\u001b[0m\u001b[0m\n",
      "\u001b[1;32mc:\\users\\u5801283\\appdata\\local\\continuum\\anaconda3\\envs\\honours\\lib\\site-packages\\pandas\\io\\parsers.py\u001b[0m in \u001b[0;36m_read\u001b[1;34m(filepath_or_buffer, kwds)\u001b[0m\n\u001b[0;32m    427\u001b[0m \u001b[1;33m\u001b[0m\u001b[0m\n\u001b[0;32m    428\u001b[0m     \u001b[1;31m# Create the parser.\u001b[0m\u001b[1;33m\u001b[0m\u001b[1;33m\u001b[0m\u001b[1;33m\u001b[0m\u001b[0m\n\u001b[1;32m--> 429\u001b[1;33m     \u001b[0mparser\u001b[0m \u001b[1;33m=\u001b[0m \u001b[0mTextFileReader\u001b[0m\u001b[1;33m(\u001b[0m\u001b[0mfilepath_or_buffer\u001b[0m\u001b[1;33m,\u001b[0m \u001b[1;33m**\u001b[0m\u001b[0mkwds\u001b[0m\u001b[1;33m)\u001b[0m\u001b[1;33m\u001b[0m\u001b[1;33m\u001b[0m\u001b[0m\n\u001b[0m\u001b[0;32m    430\u001b[0m \u001b[1;33m\u001b[0m\u001b[0m\n\u001b[0;32m    431\u001b[0m     \u001b[1;32mif\u001b[0m \u001b[0mchunksize\u001b[0m \u001b[1;32mor\u001b[0m \u001b[0miterator\u001b[0m\u001b[1;33m:\u001b[0m\u001b[1;33m\u001b[0m\u001b[1;33m\u001b[0m\u001b[0m\n",
      "\u001b[1;32mc:\\users\\u5801283\\appdata\\local\\continuum\\anaconda3\\envs\\honours\\lib\\site-packages\\pandas\\io\\parsers.py\u001b[0m in \u001b[0;36m__init__\u001b[1;34m(self, f, engine, **kwds)\u001b[0m\n\u001b[0;32m    893\u001b[0m             \u001b[0mself\u001b[0m\u001b[1;33m.\u001b[0m\u001b[0moptions\u001b[0m\u001b[1;33m[\u001b[0m\u001b[1;34m'has_index_names'\u001b[0m\u001b[1;33m]\u001b[0m \u001b[1;33m=\u001b[0m \u001b[0mkwds\u001b[0m\u001b[1;33m[\u001b[0m\u001b[1;34m'has_index_names'\u001b[0m\u001b[1;33m]\u001b[0m\u001b[1;33m\u001b[0m\u001b[1;33m\u001b[0m\u001b[0m\n\u001b[0;32m    894\u001b[0m \u001b[1;33m\u001b[0m\u001b[0m\n\u001b[1;32m--> 895\u001b[1;33m         \u001b[0mself\u001b[0m\u001b[1;33m.\u001b[0m\u001b[0m_make_engine\u001b[0m\u001b[1;33m(\u001b[0m\u001b[0mself\u001b[0m\u001b[1;33m.\u001b[0m\u001b[0mengine\u001b[0m\u001b[1;33m)\u001b[0m\u001b[1;33m\u001b[0m\u001b[1;33m\u001b[0m\u001b[0m\n\u001b[0m\u001b[0;32m    896\u001b[0m \u001b[1;33m\u001b[0m\u001b[0m\n\u001b[0;32m    897\u001b[0m     \u001b[1;32mdef\u001b[0m \u001b[0mclose\u001b[0m\u001b[1;33m(\u001b[0m\u001b[0mself\u001b[0m\u001b[1;33m)\u001b[0m\u001b[1;33m:\u001b[0m\u001b[1;33m\u001b[0m\u001b[1;33m\u001b[0m\u001b[0m\n",
      "\u001b[1;32mc:\\users\\u5801283\\appdata\\local\\continuum\\anaconda3\\envs\\honours\\lib\\site-packages\\pandas\\io\\parsers.py\u001b[0m in \u001b[0;36m_make_engine\u001b[1;34m(self, engine)\u001b[0m\n\u001b[0;32m   1120\u001b[0m     \u001b[1;32mdef\u001b[0m \u001b[0m_make_engine\u001b[0m\u001b[1;33m(\u001b[0m\u001b[0mself\u001b[0m\u001b[1;33m,\u001b[0m \u001b[0mengine\u001b[0m\u001b[1;33m=\u001b[0m\u001b[1;34m'c'\u001b[0m\u001b[1;33m)\u001b[0m\u001b[1;33m:\u001b[0m\u001b[1;33m\u001b[0m\u001b[1;33m\u001b[0m\u001b[0m\n\u001b[0;32m   1121\u001b[0m         \u001b[1;32mif\u001b[0m \u001b[0mengine\u001b[0m \u001b[1;33m==\u001b[0m \u001b[1;34m'c'\u001b[0m\u001b[1;33m:\u001b[0m\u001b[1;33m\u001b[0m\u001b[1;33m\u001b[0m\u001b[0m\n\u001b[1;32m-> 1122\u001b[1;33m             \u001b[0mself\u001b[0m\u001b[1;33m.\u001b[0m\u001b[0m_engine\u001b[0m \u001b[1;33m=\u001b[0m \u001b[0mCParserWrapper\u001b[0m\u001b[1;33m(\u001b[0m\u001b[0mself\u001b[0m\u001b[1;33m.\u001b[0m\u001b[0mf\u001b[0m\u001b[1;33m,\u001b[0m \u001b[1;33m**\u001b[0m\u001b[0mself\u001b[0m\u001b[1;33m.\u001b[0m\u001b[0moptions\u001b[0m\u001b[1;33m)\u001b[0m\u001b[1;33m\u001b[0m\u001b[1;33m\u001b[0m\u001b[0m\n\u001b[0m\u001b[0;32m   1123\u001b[0m         \u001b[1;32melse\u001b[0m\u001b[1;33m:\u001b[0m\u001b[1;33m\u001b[0m\u001b[1;33m\u001b[0m\u001b[0m\n\u001b[0;32m   1124\u001b[0m             \u001b[1;32mif\u001b[0m \u001b[0mengine\u001b[0m \u001b[1;33m==\u001b[0m \u001b[1;34m'python'\u001b[0m\u001b[1;33m:\u001b[0m\u001b[1;33m\u001b[0m\u001b[1;33m\u001b[0m\u001b[0m\n",
      "\u001b[1;32mc:\\users\\u5801283\\appdata\\local\\continuum\\anaconda3\\envs\\honours\\lib\\site-packages\\pandas\\io\\parsers.py\u001b[0m in \u001b[0;36m__init__\u001b[1;34m(self, src, **kwds)\u001b[0m\n\u001b[0;32m   1851\u001b[0m         \u001b[0mkwds\u001b[0m\u001b[1;33m[\u001b[0m\u001b[1;34m'usecols'\u001b[0m\u001b[1;33m]\u001b[0m \u001b[1;33m=\u001b[0m \u001b[0mself\u001b[0m\u001b[1;33m.\u001b[0m\u001b[0musecols\u001b[0m\u001b[1;33m\u001b[0m\u001b[1;33m\u001b[0m\u001b[0m\n\u001b[0;32m   1852\u001b[0m \u001b[1;33m\u001b[0m\u001b[0m\n\u001b[1;32m-> 1853\u001b[1;33m         \u001b[0mself\u001b[0m\u001b[1;33m.\u001b[0m\u001b[0m_reader\u001b[0m \u001b[1;33m=\u001b[0m \u001b[0mparsers\u001b[0m\u001b[1;33m.\u001b[0m\u001b[0mTextReader\u001b[0m\u001b[1;33m(\u001b[0m\u001b[0msrc\u001b[0m\u001b[1;33m,\u001b[0m \u001b[1;33m**\u001b[0m\u001b[0mkwds\u001b[0m\u001b[1;33m)\u001b[0m\u001b[1;33m\u001b[0m\u001b[1;33m\u001b[0m\u001b[0m\n\u001b[0m\u001b[0;32m   1854\u001b[0m         \u001b[0mself\u001b[0m\u001b[1;33m.\u001b[0m\u001b[0munnamed_cols\u001b[0m \u001b[1;33m=\u001b[0m \u001b[0mself\u001b[0m\u001b[1;33m.\u001b[0m\u001b[0m_reader\u001b[0m\u001b[1;33m.\u001b[0m\u001b[0munnamed_cols\u001b[0m\u001b[1;33m\u001b[0m\u001b[1;33m\u001b[0m\u001b[0m\n\u001b[0;32m   1855\u001b[0m \u001b[1;33m\u001b[0m\u001b[0m\n",
      "\u001b[1;32mpandas\\_libs\\parsers.pyx\u001b[0m in \u001b[0;36mpandas._libs.parsers.TextReader.__cinit__\u001b[1;34m()\u001b[0m\n",
      "\u001b[1;32mpandas\\_libs\\parsers.pyx\u001b[0m in \u001b[0;36mpandas._libs.parsers.TextReader._setup_parser_source\u001b[1;34m()\u001b[0m\n",
      "\u001b[1;31mFileNotFoundError\u001b[0m: [Errno 2] File b'wine.data' does not exist: b'wine.data'"
     ]
    }
   ],
   "source": [
    "wine = pd.read_csv(\"wine.data\", header=None)\n",
    "wine_1 = np.where(wine[0] == 1)\n",
    "wine_2 = np.where(wine[0] == 2)\n",
    "wine_3 = np.where(wine[0] == 3)\n",
    "\n",
    "\n",
    "# adult = data_9.to_numpy()[adult_inds]\n",
    "# child = data_9.to_numpy()[child_inds]\n",
    "features = wine[wine.columns[1:]].to_numpy()\n",
    "\n",
    "features = np.array([feat/sum(feat) for feat in features])\n",
    "\n",
    "\n",
    "\n",
    "# # pca_clr = CodaPCA.CLRPCA(2)\n",
    "# # pca_clr.fit(features)\n",
    "# # test = pca_clr.transform(features)\n",
    "\n",
    "# pca = CodaPCA.CodaPCA(2,lrate=1e-3,nn_shape=[100,100], alg=CodaPCA.Alg.CODAPCA)\n",
    "# pca.fit(features)\n",
    "# test = pca.transform(features)\n",
    "\n",
    "\n",
    "pca_clr = CodaPCA.CLRPCA(2)\n",
    "pca_clr.fit(features)\n",
    "test = pca_clr.transform(features)\n",
    "\n",
    "plt.scatter(x = test[wine_1][:,0], y = test[wine_1][:,1], c =\"red\")\n",
    "plt.scatter(x = test[wine_2][:,0], y = test[wine_2][:,1], c =\"orange\")\n",
    "plt.scatter(x = test[wine_3][:,0], y = test[wine_3][:,1], c =\"blue\")\n",
    "\n",
    "\n",
    "plt.show()\n",
    "\n",
    "\n",
    "\n"
   ]
  },
  {
   "cell_type": "code",
   "execution_count": null,
   "metadata": {},
   "outputs": [],
   "source": [
    "from sklearn.decomposition import PCA\n",
    "naive_pca = PCA(2)\n",
    "naive_pca.fit(features)\n",
    "test = pca.transform(features)\n",
    "\n",
    "plt.scatter(x = test[wine_1][:,0], y = test[wine_1][:,1], c =\"red\")\n",
    "plt.scatter(x = test[wine_2][:,0], y = test[wine_2][:,1], c =\"orange\")\n",
    "plt.scatter(x = test[wine_3][:,0], y = test[wine_3][:,1], c =\"blue\")\n",
    "\n",
    "\n",
    "plt.show()\n",
    "\n"
   ]
  },
  {
   "cell_type": "code",
   "execution_count": null,
   "metadata": {},
   "outputs": [],
   "source": [
    "import matplotlib.pyplot as plt\n",
    "from mpl_toolkits.mplot3d import Axes3D\n",
    "fig = plt.figure()\n",
    "ax = fig.add_subplot(222, projection='3d')\n",
    "\n",
    "\n",
    "\n",
    "# pca = CodaPCA.CodaPCA(3,lrate=1e-3,nn_shape=[100,100], alg=CodaPCA.Alg.CODAPCA)\n",
    "# pca.fit(features)\n",
    "# test = pca.transform(features)\n",
    "\n",
    "pca = CodaPCA.NonParametricCodaPCA(3)\n",
    "pca.fit(features)\n",
    "test = pca.transform(features)\n",
    "\n",
    "\n",
    "# pca_clr = CodaPCA.CLRPCA(3)\n",
    "# pca_clr.fit(features)\n",
    "# test = pca_clr.transform(features)\n",
    "\n",
    "\n",
    "# naive_pca = PCA(2)\n",
    "# naive_pca.fit(features)\n",
    "# test = pca.transform(features)\n",
    "\n",
    "\n",
    "\n",
    "ax.scatter(xs = test[wine_1][:,0], ys = test[wine_1][:,1],zs = test[wine_1][:,1], c =\"red\")\n",
    "ax.scatter(xs= test[wine_2][:,0], ys = test[wine_2][:,1],zs = test[wine_2][:,1], c =\"green\")\n",
    "ax.scatter(xs = test[wine_3][:,0], ys = test[wine_3][:,1],zs = test[wine_3][:,1], c =\"blue\")\n"
   ]
  }
 ],
 "metadata": {
  "kernelspec": {
   "display_name": "Python 3",
   "language": "python",
   "name": "python3"
  },
  "language_info": {
   "codemirror_mode": {
    "name": "ipython",
    "version": 3
   },
   "file_extension": ".py",
   "mimetype": "text/x-python",
   "name": "python",
   "nbconvert_exporter": "python",
   "pygments_lexer": "ipython3",
   "version": "3.7.1"
  }
 },
 "nbformat": 4,
 "nbformat_minor": 1
}
