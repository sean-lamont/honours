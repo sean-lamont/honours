{
 "cells": [
  {
   "cell_type": "code",
   "execution_count": 1,
   "metadata": {},
   "outputs": [],
   "source": [
    "import CodaPCA\n",
    "import CodaCl \n",
    "import PCACl\n",
    "import numpy as np\n",
    "from runpca import read_csv\n",
    "import os\n",
    "import sklearn\n",
    "from sklearn.linear_model import Ridge\n",
    "from sklearn.linear_model import LogisticRegression\n",
    "#change module for newer sklearn versions\n",
    "from sklearn.model_selection  import cross_val_score\n",
    "from sklearn.model_selection  import KFold\n",
    "import matplotlib.pyplot as plt\n",
    "import pandas as pd\n",
    "from sklearn import decomposition\n",
    "from sklearn.preprocessing import StandardScaler\n",
    "from sklearn.preprocessing import LabelEncoder\n",
    "import torch\n",
    "import dill"
   ]
  },
  {
   "cell_type": "code",
   "execution_count": 2,
   "metadata": {},
   "outputs": [],
   "source": [
    "def enhanced_cross_val(features, targets, folds):\n",
    "    assert len(features) == len(targets), \"Mismatch in length of features and targets\"\n",
    "    kfold_scores = []\n",
    "    for train, test in folds:\n",
    "        Y_train = targets[train]\n",
    "        X_train = features[train]\n",
    "               \n",
    "        Y_test = targets[test]\n",
    "        X_test = features[test]\n",
    "                \n",
    "        model = LogisticRegression(multi_class='auto', solver='lbfgs')\n",
    "        model.fit(X_train, Y_train)\n",
    "        y_pred = model.predict(X_test)\n",
    "        kfold_scores.append(sklearn.metrics.accuracy_score(Y_test,y_pred))\n",
    "                \n",
    "    return kfold_scores\n",
    "\n",
    "#can automate this if we had assume a certain structure for the indices of features and targets, or an array per dataset \n",
    "\n",
    "\n"
   ]
  },
  {
   "cell_type": "code",
   "execution_count": 3,
   "metadata": {},
   "outputs": [],
   "source": [
    "def coda_val(features, targets, n_components, folds, nn_shape,  lr,lam, epochs):\n",
    "    kfold_scores = []\n",
    "    for train, test in folds:        \n",
    "        Y_train = targets[train]\n",
    "        X_train = features[train]\n",
    "        \n",
    "       \n",
    "        Y_test = targets[test]\n",
    "        X_test = features[test]\n",
    "        \n",
    "        \n",
    "        model = CodaCl.CoDA_Cl(130, n_components, 2, nn_shape[0], nn_shape[1])\n",
    "\n",
    "\n",
    "        val_arr, train_arr = model.fit(X_train, Y_train, lam, lr, train_size = int(len(X_train)*(3/4)), epochs=epochs)\n",
    "        \n",
    "        print (\"Plot!\")\n",
    "        \n",
    "        plt.plot(val_arr, c=\"red\")\n",
    "        plt.plot(train_arr, c=\"blue\")\n",
    "        \n",
    "        plt.ylim(bottom=min(train_arr))\n",
    "\n",
    "        plt.show()\n",
    "        \n",
    "        pred = model.predict(torch.FloatTensor(X_test))\n",
    "        \n",
    "        pred = pred.exp().detach()     \n",
    "        _, index = torch.max(pred,1)  \n",
    "        pred = pred.numpy()\n",
    "        index = index.numpy()\n",
    "        \n",
    "        kfold_scores.append(sklearn.metrics.accuracy_score(Y_test,index))\n",
    "                \n",
    "    return kfold_scores\n"
   ]
  },
  {
   "cell_type": "code",
   "execution_count": 4,
   "metadata": {},
   "outputs": [],
   "source": [
    "def PCA_Classification(data, co_feature_indices, target_index, \n",
    "                   other_feature_indices = [], alg=CodaPCA.Alg.CODAPCA, verbose=True):\n",
    "       #can loop through/optimise this in another way?\n",
    "    \n",
    "    features = np.array(data[:,co_feature_indices],dtype=np.float32)\n",
    "    \n",
    "    features_ = features\n",
    "    \n",
    "    targets = data[:,target_index]\n",
    "    \n",
    "    le = LabelEncoder()\n",
    "    le.fit(targets)\n",
    "    targets = le.transform(targets)\n",
    "    #set up as int list, and subtract to get index so NLL loss works\n",
    "#     targets = list(map(int,data[:,0]))\n",
    "#     targets = [target - 1 for target in targets]\n",
    "\n",
    "    \n",
    "    #normalise the compositional features. TODO anything extra to deal with non compositional features?\n",
    "    features = np.array([feat/sum(feat) for feat in features])\n",
    "\n",
    "    #can be empty\n",
    "    extra_features = data[:,other_feature_indices]\n",
    "    \n",
    "    #TODO double check this\n",
    "    features = np.hstack([features, extra_features])\n",
    "    \n",
    "\n",
    "    n_components=20\n",
    "#     print(features)\n",
    "\n",
    "    \n",
    "    pca_coda = CodaPCA.NonParametricCodaPCA(n_components)\n",
    "    Y_coda = pca_coda.fit_transform(np.array(features, dtype=np.float32))\n",
    "\n",
    "    pca_clr = CodaPCA.CLRPCA(n_components)\n",
    "    Y_clr = pca_clr.fit_transform(np.array(features, dtype=np.float32))\n",
    "    \n",
    "    \n",
    "    \n",
    "    sc = StandardScaler()\n",
    "    features_ = sc.fit_transform(np.array(features, dtype=np.float32))\n",
    "\n",
    "    pca_reg = decomposition.PCA(n_components)\n",
    "\n",
    "    pca_reg.fit(features_)\n",
    "    Y_pca = pca_reg.transform(features_)\n",
    "  \n",
    "\n",
    "    splits = 4\n",
    "    #split data \n",
    "    kf = KFold(splits)\n",
    "        \n",
    "    folds = [i for i in kf.split(features)] \n",
    "\n",
    "    coda_score = enhanced_cross_val(Y_coda, np.array(targets), folds)\n",
    "    clr_score = enhanced_cross_val(Y_clr, np.array(targets), folds) \n",
    "    naive_score = enhanced_cross_val(Y_pca, np.array(targets), folds)\n",
    "\n",
    "#     import itertools\n",
    "#     nn_vals = [[[5,], [2,]]]#, [[10,],[5,]], [[10,5], [3,5]], [[50,], [20,]], [[50,20], [10,20]]]\n",
    "#     lr_vals = [1e-3]#, 1e-3, 5e-4,1e-4 ]\n",
    "#     lam_vals = [1e-12]#1e-12,5e-12,1e-11,5e-11,1e-10,5e-10,1e-5,1e-4,0.001,0.1,1,10,100]\n",
    "#     epoch_vals = [5000]\n",
    "\n",
    "#     param_list = list(itertools.product(*[nn_vals, lr_vals, lam_vals, epoch_vals]))\n",
    "# #     param_file = open(\"paramresultswineclass.txt\",\"w\") \n",
    "# #     param_file.write(\"Results from hyperparameter grid search:\\n\\n\") \n",
    "\n",
    "#     param_dict = {}\n",
    "        \n",
    "#     for params in param_list:\n",
    "#         nn_shape = params[0]\n",
    "#         lr = params[1]\n",
    "#         lam = params[2]\n",
    "#         n_epochs = params[3]\n",
    "\n",
    "#         score = coda_val(features, np.array(targets), 2, folds, nn_shape, lr, lam, n_epochs )\n",
    "\n",
    "#         param_dict[tuple([sum(nn_shape[0]) + sum(nn_shape[1]), lr, lam, n_epochs])] = np.mean(score)\n",
    "#         param_file.write(\"nn {}, lr {}, lam {}, epochs {}, num_samples {}, num_features {} \\nScore: {} \\nMean_score: {} \\n\\n\".format(nn_shape, lr, lam, n_epochs, len(features), len(co_feature_indices), score, np.mean(score)))\n",
    "\n",
    "#         param_file.close()\n",
    "\n",
    "    #codacl_score = coda_val(features, np.array(targets), n_components, folds)\n",
    "\n",
    "    nn_shape = [[50], [50]]\n",
    "    lr = 1e-3\n",
    "    lam = 1e-10\n",
    "    n_epochs = 200\n",
    "\n",
    "    codacl_score = coda_val(np.array(features,dtype=np.float32), np.array(targets), 20, folds, nn_shape, lr, lam, n_epochs )\n",
    "    \n",
    "    if verbose:\n",
    "        print(\"CoDA-PCA:\")\n",
    "        print(coda_score)\n",
    "        print(\"CLR-PCA:\")\n",
    "        print(clr_score)\n",
    "        print (\"Naive Classification:\")\n",
    "        print (naive_score)\n",
    "        print (\"Coda Cl:\")\n",
    "        print (codacl_score)\n",
    "\n",
    "    return coda_score,clr_score,naive_score,codacl_score\n"
   ]
  },
  {
   "cell_type": "code",
   "execution_count": 5,
   "metadata": {},
   "outputs": [],
   "source": [
    "import pandas as pd\n",
    "import numpy as np\n",
    "diet_data = pd.read_hdf('dietswap.h5','dietswap')\n",
    "\n",
    "data = diet_data.to_numpy()\n",
    "np.random.shuffle(data)"
   ]
  },
  {
   "cell_type": "code",
   "execution_count": 6,
   "metadata": {},
   "outputs": [
    {
     "name": "stdout",
     "output_type": "stream",
     "text": [
      "Plot!\n"
     ]
    },
    {
     "data": {
      "image/png": "[encoded data removed]",
      "text/plain": [
       "<Figure size 432x288 with 1 Axes>"
      ]
     },
     "metadata": {
      "needs_background": "light"
     },
     "output_type": "display_data"
    },
    {
     "name": "stdout",
     "output_type": "stream",
     "text": [
      "Plot!\n"
     ]
    },
    {
     "data": {
      "image/png": "[encoded data removed]",
      "text/plain": [
       "<Figure size 432x288 with 1 Axes>"
      ]
     },
     "metadata": {
      "needs_background": "light"
     },
     "output_type": "display_data"
    },
    {
     "name": "stdout",
     "output_type": "stream",
     "text": [
      "Plot!\n"
     ]
    },
    {
     "data": {
      "image/png": "[encoded data removed]",
      "text/plain": [
       "<Figure size 432x288 with 1 Axes>"
      ]
     },
     "metadata": {
      "needs_background": "light"
     },
     "output_type": "display_data"
    },
    {
     "name": "stdout",
     "output_type": "stream",
     "text": [
      "Plot!\n"
     ]
    },
    {
     "data": {
      "image/png": "[encoded data removed]",
      "text/plain": [
       "<Figure size 432x288 with 1 Axes>"
      ]
     },
     "metadata": {
      "needs_background": "light"
     },
     "output_type": "display_data"
    },
    {
     "name": "stdout",
     "output_type": "stream",
     "text": [
      "CoDA-PCA:\n",
      "[0.9464285714285714, 0.9285714285714286, 0.9454545454545454, 0.9818181818181818]\n",
      "CLR-PCA:\n",
      "[0.9821428571428571, 0.9821428571428571, 0.9636363636363636, 1.0]\n",
      "Naive Classification:\n",
      "[0.8928571428571429, 0.9285714285714286, 0.9454545454545454, 0.9454545454545454]\n",
      "Coda Cl:\n",
      "[0.5178571428571429, 0.5714285714285714, 0.5454545454545454, 0.5818181818181818]\n"
     ]
    },
    {
     "data": {
      "text/plain": [
       "([0.9464285714285714,\n",
       "  0.9285714285714286,\n",
       "  0.9454545454545454,\n",
       "  0.9818181818181818],\n",
       " [0.9821428571428571, 0.9821428571428571, 0.9636363636363636, 1.0],\n",
       " [0.8928571428571429,\n",
       "  0.9285714285714286,\n",
       "  0.9454545454545454,\n",
       "  0.9454545454545454],\n",
       " [0.5178571428571429,\n",
       "  0.5714285714285714,\n",
       "  0.5454545454545454,\n",
       "  0.5818181818181818])"
      ]
     },
     "execution_count": 6,
     "metadata": {},
     "output_type": "execute_result"
    }
   ],
   "source": [
    "%matplotlib inline\n",
    "PCA_Classification(np.array(data), np.arange(130), -5)"
   ]
  },
  {
   "cell_type": "code",
   "execution_count": 7,
   "metadata": {},
   "outputs": [
    {
     "ename": "NameError",
     "evalue": "name 'targets' is not defined",
     "output_type": "error",
     "traceback": [
      "\u001b[1;31m---------------------------------------------------------------------------\u001b[0m",
      "\u001b[1;31mNameError\u001b[0m                                 Traceback (most recent call last)",
      "\u001b[1;32m<ipython-input-7-0b2c6bf726b1>\u001b[0m in \u001b[0;36m<module>\u001b[1;34m\u001b[0m\n\u001b[0;32m      1\u001b[0m \u001b[0mle\u001b[0m \u001b[1;33m=\u001b[0m \u001b[0mLabelEncoder\u001b[0m\u001b[1;33m(\u001b[0m\u001b[1;33m)\u001b[0m\u001b[1;33m\u001b[0m\u001b[1;33m\u001b[0m\u001b[0m\n\u001b[1;32m----> 2\u001b[1;33m \u001b[0mle\u001b[0m\u001b[1;33m.\u001b[0m\u001b[0mfit\u001b[0m\u001b[1;33m(\u001b[0m\u001b[0mtargets\u001b[0m\u001b[1;33m)\u001b[0m\u001b[1;33m\u001b[0m\u001b[1;33m\u001b[0m\u001b[0m\n\u001b[0m\u001b[0;32m      3\u001b[0m \u001b[0mle\u001b[0m\u001b[1;33m.\u001b[0m\u001b[0mclasses_\u001b[0m\u001b[1;33m\u001b[0m\u001b[1;33m\u001b[0m\u001b[0m\n",
      "\u001b[1;31mNameError\u001b[0m: name 'targets' is not defined"
     ]
    }
   ],
   "source": [
    "le = LabelEncoder()\n",
    "le.fit(targets)\n",
    "le.classes_"
   ]
  },
  {
   "cell_type": "code",
   "execution_count": null,
   "metadata": {},
   "outputs": [],
   "source": [
    "encoded_targets = le.transform(targets)"
   ]
  },
  {
   "cell_type": "code",
   "execution_count": null,
   "metadata": {},
   "outputs": [],
   "source": [
    "type(features[0][0])"
   ]
  },
  {
   "cell_type": "code",
   "execution_count": null,
   "metadata": {},
   "outputs": [],
   "source": [
    "features = np.array([feat/sum(feat) for feat in features])\n",
    "\n",
    "pca_coda = CodaPCA.NonParametricCodaPCA(2)\n",
    "pca_coda.fit(features.astype(float))\n",
    "\n",
    "\n",
    "\n",
    "    \n",
    "Y_coda = pca_coda.transform(features.astype(float))"
   ]
  },
  {
   "cell_type": "code",
   "execution_count": null,
   "metadata": {
    "scrolled": true
   },
   "outputs": [],
   "source": [
    "%matplotlib inline\n",
    "plt.scatter(Y_coda[:,0], Y_coda[:,1], c=encoded_targets)\n"
   ]
  },
  {
   "cell_type": "code",
   "execution_count": null,
   "metadata": {},
   "outputs": [],
   "source": [
    "features = np.array([feat/sum(feat) for feat in features])\n",
    "\n",
    "pca_coda = CodaPCA.CLRPCA(3)\n",
    "pca_coda.fit(features.astype(float))\n",
    "\n",
    "\n",
    "\n",
    "    \n",
    "Y_clr = pca_coda.transform(features.astype(float))\n",
    "\n",
    "%matplotlib inline\n",
    "plt.scatter(Y_clr[:,0], Y_clr[:,1], c=encoded_targets)"
   ]
  },
  {
   "cell_type": "code",
   "execution_count": null,
   "metadata": {},
   "outputs": [],
   "source": [
    "import sklearn.decomposition\n",
    "sc = StandardScaler()\n",
    "features_ = sc.fit_transform(features.astype(float))\n",
    "\n",
    "pca_reg = decomposition.PCA(3)\n",
    "Y_pca = pca_reg.fit_transform(features_)"
   ]
  },
  {
   "cell_type": "code",
   "execution_count": null,
   "metadata": {},
   "outputs": [],
   "source": [
    "%matplotlib inline\n",
    "plt.scatter(Y_pca[:,0], Y_pca[:,1], c=encoded_targets)"
   ]
  },
  {
   "cell_type": "code",
   "execution_count": null,
   "metadata": {},
   "outputs": [],
   "source": [
    "from mpl_toolkits.mplot3d import Axes3D\n",
    "%matplotlib inline\n",
    "\n",
    "\n",
    "fig = plt.figure()\n",
    "ax = fig.add_subplot(111, projection='3d')\n",
    "\n",
    "ax.scatter(xs = Y_coda[:,0], ys = Y_coda[:,1], zs = Y_coda[:,2],c =encoded_targets)\n",
    "\n",
    "# rotate the axes and update\n",
    "for angle in range(0, 360):\n",
    "    ax.view_init(30, angle)\n",
    "    plt.draw()\n",
    "    plt.pause(.001)"
   ]
  },
  {
   "cell_type": "code",
   "execution_count": null,
   "metadata": {},
   "outputs": [],
   "source": [
    "from mpl_toolkits.mplot3d import Axes3D\n",
    "%matplotlib inline\n",
    "\n",
    "\n",
    "fig = plt.figure()\n",
    "ax = fig.add_subplot(111, projection='3d')\n",
    "\n",
    "ax.scatter(xs = Y_clr[:,0], ys = Y_clr[:,1], zs = Y_clr[:,2],c =encoded_targets)\n",
    "\n",
    "\n",
    "ax.view_init(10, 90)\n",
    "plt.draw()"
   ]
  },
  {
   "cell_type": "code",
   "execution_count": null,
   "metadata": {},
   "outputs": [],
   "source": []
  }
 ],
 "metadata": {
  "kernelspec": {
   "display_name": "Python 3",
   "language": "python",
   "name": "python3"
  },
  "language_info": {
   "codemirror_mode": {
    "name": "ipython",
    "version": 3
   },
   "file_extension": ".py",
   "mimetype": "text/x-python",
   "name": "python",
   "nbconvert_exporter": "python",
   "pygments_lexer": "ipython3",
   "version": "3.7.1"
  }
 },
 "nbformat": 4,
 "nbformat_minor": 1
}
