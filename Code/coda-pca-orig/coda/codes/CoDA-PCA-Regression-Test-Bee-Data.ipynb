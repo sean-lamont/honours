{
 "cells": [
  {
   "cell_type": "code",
   "execution_count": 4,
   "metadata": {},
   "outputs": [],
   "source": [
    "import CodaPCA\n",
    "import numpy as np\n",
    "from runpca import read_csv\n",
    "import os\n",
    "import sklearn\n",
    "from sklearn.linear_model import Ridge\n",
    "#change module for newer sklearn versions\n",
    "from sklearn.model_selection  import cross_val_score\n",
    "from sklearn.model_selection  import KFold\n",
    "import matplotlib.pyplot as plt"
   ]
  },
  {
   "cell_type": "code",
   "execution_count": 5,
   "metadata": {},
   "outputs": [],
   "source": [
    "#read in the data. Given an array of which files are regression, classification or unlabelled\n",
    "data_path = os.getcwd() + \"\\\\Aitchinson\"\n",
    "\n",
    "regression_list = [3,4,5,18,21,34,39]\n",
    "classification_list = [7,8,9,11,12,16,17,19,23,24,25,26,28,29,33,37]\n",
    "unlabelled_list=[1,2,6,10,13,14,15,20,22,27,30,31,32,35,36,38,40]\n",
    "\n",
    "r_files = []\n",
    "c_files = []\n",
    "u_files = []\n",
    "\n",
    "\n",
    "for file in os.listdir(data_path):\n",
    "    for i in regression_list:\n",
    "        if os.path.isfile(os.path.join(data_path,file)) and 'Data ' + str(i) + '.' in file:\n",
    "            r_files.append(\"Aitchinson/\" + file)\n",
    "    for i in classification_list:\n",
    "        if os.path.isfile(os.path.join(data_path,file)) and 'Data ' + str(i) + '.' in file:\n",
    "            c_files.append(\"Aitchinson/\" + file)\n",
    "    for i in unlabelled_list:\n",
    "        if os.path.isfile(os.path.join(data_path,file)) and 'Data ' + str(i) + '.' in file:\n",
    "            u_files.append(\"Aitchinson/\" + file)"
   ]
  },
  {
   "cell_type": "code",
   "execution_count": 105,
   "metadata": {},
   "outputs": [
    {
     "name": "stdout",
     "output_type": "stream",
     "text": [
      "loading Aitchinson/Data 18. Compositions and total pebble counts of 92 glacial tills.csv...\n",
      "92 samples 5 features\n",
      "sparsity: 10.434782608695652%\n",
      "[epoch     0] L=  0.9774\n",
      "loading Aitchinson/Data 21. Permeabilities of bayesite for 21 mixtures of fibres and bonding pressures..csv...\n",
      "21 samples 6 features\n",
      "sparsity: 0.0%\n",
      "[epoch     0] L=  4.2826\n",
      "loading Aitchinson/Data 3. Compositions and depths of 25 specimens of boxite (Percentages by weight).csv...\n",
      "25 samples 6 features\n",
      "sparsity: 0.0%\n",
      "[epoch     0] L=  5.0729\n",
      "loading Aitchinson/Data 34. Foraminiferal compositions at 30 different depths.csv...\n",
      "30 samples 5 features\n",
      "sparsity: 3.3333333333333335%\n",
      "[epoch     0] L=  0.1048\n",
      "loading Aitchinson/Data 39. Microhardness of 18 glass specimens and their (Ge, Sb, Se) compositions.csv...\n",
      "18 samples 4 features\n",
      "sparsity: 0.0%\n",
      "[epoch     0] L=  3.3231\n",
      "loading Aitchinson/Data 4. Compositions, depths and porosities of 25 specimens of coxite (Percentages by weight).csv...\n",
      "25 samples 7 features\n",
      "sparsity: 0.0%\n",
      "[epoch     0] L=  3.6327\n",
      "loading Aitchinson/Data 5. Sand, silt, clay compositions of 39 sediment samples at different water depths in an Arctic lake.csv...\n",
      "39 samples 4 features\n",
      "sparsity: 0.0%\n",
      "[epoch     0] L=  3.4700\n"
     ]
    }
   ],
   "source": [
    "\n",
    "#need to specify where the the targets and features are in the dataset, and whether there are non compositional features\n",
    "\n",
    "def PCA_Regression(data, co_feature_indices, target_index, \n",
    "                   other_feature_indices = [], alg=CodaPCA.Alg.CODAPCA, verbose=False):\n",
    "    \n",
    "    #can loop through/optimise this in another way?\n",
    "    \n",
    "    headers = data[1]\n",
    "    features = data[0][:,co_feature_indices]\n",
    "    targets = data[0][:,target_index]\n",
    "    \n",
    "    #normalise the compositional features. TODO anything extra to deal with non compositional features?\n",
    "    features = np.array([feat/sum(feat) for feat in features])\n",
    "\n",
    "    #can be empty\n",
    "    extra_features = data[0][:,other_feature_indices]\n",
    "    \n",
    "    #TODO double check this\n",
    "    features = np.hstack([features, extra_features])\n",
    "    \n",
    "    #compute the CoDA-PCA projection \n",
    "    #TODO add component number as a hyperparameter to optimise \n",
    "    n_components=len(co_feature_indices)-2\n",
    "\n",
    "    pca = CodaPCA.CodaPCA(n_components,lrate=1e-3,nn_shape=[100,100], alg=alg)\n",
    "    #pca = CodaPCA.NonParametricCodaPCA(n_components)\n",
    "\n",
    "    pca.fit(features)\n",
    "    \n",
    "    Y_coda = pca.project(features)\n",
    "\n",
    "    pca_clr = CodaPCA.CLRPCA(n_components)\n",
    "    pca_clr.fit(features)\n",
    "    \n",
    "    Y_clr = pca_clr.project(features)\n",
    "\n",
    "    lm = Ridge()\n",
    "    #exp the projection to get out of clr space\n",
    "    coda_score = enhanced_cross_val(lm,np.exp(Y_coda), targets)\n",
    "    clr_score = enhanced_cross_val(lm,np.exp(Y_clr), targets) \n",
    "    naive_score = enhanced_cross_val(lm, features, targets)\n",
    "\n",
    "\n",
    "    if verbose:\n",
    "        print(\"CoDA-PCA:\")\n",
    "        print(coda_score)\n",
    "        print(\"CLR-PCA:\")\n",
    "        print(clr_score)\n",
    "        print (\"Naive regression:\")\n",
    "        print (naive_score)\n",
    "    \n",
    "\n",
    "    return coda_score,clr_score,naive_score\n",
    "\n",
    "#training methodology as described in:\n",
    "#https://papers.nips.cc/paper/3215-learning-with-transformation-invariant-kernels.pdf\n",
    "def enhanced_cross_val(model, features, targets):\n",
    "    assert len(features) == len(targets), \"Mismatch in length of features and targets\"\n",
    "    \n",
    "    #define the number of splits and folds uised in the parameter selection\n",
    "    #stick to smaller splits since we have small datasets\n",
    "    splits = 4\n",
    "    param_splits = 3\n",
    "    \n",
    "    #split data \n",
    "    kf = KFold(splits)\n",
    "    kfold_scores = []\n",
    "    for train, test in kf.split(features):        \n",
    "        Y_train = targets[train]\n",
    "        X_train = features[train]\n",
    "        \n",
    "       \n",
    "        Y_test = targets[test]\n",
    "        X_test = features[test]\n",
    "        \n",
    "        #inner loop for parameter selection (regularisation term in Ridge Regression):\n",
    "        param_grid = [0.01,0.05,0.1,0.5,1.0,2.0,5.0,10.0,20.0,100.0]\n",
    "        for a in param_grid:\n",
    "            max_score = -np.inf\n",
    "            lm = Ridge(a)\n",
    "   \n",
    "            curr_score = np.mean(cross_val_score(lm, X_train, Y_train,cv=param_splits))\n",
    "            if curr_score > max_score:\n",
    "                max_score = curr_score\n",
    "                best_param = a\n",
    "        \n",
    "        #compute test score based on best parameter\n",
    "        lm = Ridge(best_param)\n",
    "        lm.fit(X_train, Y_train)\n",
    "        kfold_scores.append(lm.score(X_test, Y_test))\n",
    "        \n",
    "    return kfold_scores\n",
    "\n",
    "\n",
    "\n",
    "#can automate this if we had assume a certain structure for the indices of features and targets, or an array per dataset \n",
    "\n",
    "score_dict = {}\n",
    "\n",
    "data_18_scores = PCA_Regression(read_csv(r_files[0], normalize=False), co_feature_indices=[0,1,2,3], target_index=4)\n",
    "#other \"target\" also at 5\n",
    "score_dict['18'] = data_18_scores\n",
    "\n",
    "data_21_scores = PCA_Regression(read_csv(r_files[1], normalize=False), co_feature_indices=[0,1,2,3], target_index=4) \n",
    "score_dict['21'] = data_21_scores\n",
    "\n",
    "data_3_scores = PCA_Regression(read_csv(r_files[2], normalize=False), co_feature_indices=[0,1,2,3,4], target_index=5) \n",
    "score_dict['3'] = data_3_scores\n",
    "\n",
    "data_34_scores = PCA_Regression(read_csv(r_files[3], normalize=False), co_feature_indices=[0,1,2,3], target_index=4)\n",
    "score_dict['34'] = data_34_scores\n",
    "\n",
    "data_39_scores = PCA_Regression(read_csv(r_files[4], normalize=False), co_feature_indices=[0,1,2], target_index=3)\n",
    "score_dict['39'] = data_39_scores\n",
    "\n",
    "data_4_scores = PCA_Regression(read_csv(r_files[5], normalize=False), co_feature_indices=[0,1,2,3,4], target_index=5)\n",
    "score_dict['4'] = data_4_scores\n",
    "\n",
    "data_5_scores =PCA_Regression(read_csv(r_files[6], normalize=False), co_feature_indices=[0,1,2], target_index=3)\n",
    "score_dict['5'] = data_5_scores\n"
   ]
  },
  {
   "cell_type": "code",
   "execution_count": 106,
   "metadata": {
    "scrolled": true
   },
   "outputs": [
    {
     "data": {
      "text/html": [
       "        <script type=\"text/javascript\">\n",
       "        window.PlotlyConfig = {MathJaxConfig: 'local'};\n",
       "        if (window.MathJax) {MathJax.Hub.Config({SVG: {font: \"STIX-Web\"}});}\n",
       "        if (typeof require !== 'undefined') {\n",
       "        require.undef(\"plotly\");\n",
       "        requirejs.config({\n",
       "            paths: {\n",
       "                'plotly': ['https://cdn.plot.ly/plotly-latest.min']\n",
       "            }\n",
       "        });\n",
       "        require(['plotly'], function(Plotly) {\n",
       "            window._Plotly = Plotly;\n",
       "        });\n",
       "        }\n",
       "        </script>\n",
       "        "
      ]
     },
     "metadata": {},
     "output_type": "display_data"
    },
    {
     "data": {
      "application/vnd.plotly.v1+json": {
       "config": {
        "linkText": "Export to plot.ly",
        "plotlyServerURL": "https://plot.ly",
        "responsive": true,
        "showLink": false
       },
       "data": [
        {
         "cells": {
          "values": [
           [
            "18",
            "21",
            "3",
            "34",
            "39",
            "4",
            "5"
           ],
           [
            "0.1783448423407966",
            "-0.8936588292500742",
            "-25.919863350902286",
            "-26.579733408100548",
            "-13.189420027774238",
            "-25.89227337581771",
            "-42.73578015852272"
           ],
           [
            "0.020995383270696666",
            "-0.8926106957040174",
            "-25.89876247048378",
            "-26.361227451690606",
            "-12.683485731724344",
            "-25.90224738035883",
            "-29.84450244195868"
           ],
           [
            "-0.10238175156400309",
            "-0.8938509509747616",
            "-25.904366463422775",
            "-27.713223103788636",
            "-13.093563782183907",
            "-25.90361972280911",
            "-43.91893920393823"
           ]
          ]
         },
         "header": {
          "values": [
           "Dataset",
           "CoDA-PCA",
           "CLR-PCA",
           "Naive Regression"
          ]
         },
         "type": "table",
         "uid": "b32f0d93-769e-4cd6-9e57-84c5e8840f0b"
        }
       ],
       "layout": {}
      },
      "text/html": [
       "<div>\n",
       "        \n",
       "        \n",
       "            <div id=\"4f032d66-9147-448b-aa53-3d8afb406209\" class=\"plotly-graph-div\"></div>\n",
       "            <script type=\"text/javascript\">\n",
       "                require([\"plotly\"], function(Plotly) {\n",
       "                    window.PLOTLYENV=window.PLOTLYENV || {};\n",
       "                    window.PLOTLYENV.BASE_URL='https://plot.ly';\n",
       "                    \n",
       "                if (document.getElementById(\"4f032d66-9147-448b-aa53-3d8afb406209\")) {\n",
       "                    Plotly.newPlot(\n",
       "                        '4f032d66-9147-448b-aa53-3d8afb406209',\n",
       "                        [{\"cells\": {\"values\": [[\"18\", \"21\", \"3\", \"34\", \"39\", \"4\", \"5\"], [\"0.1783448423407966\", \"-0.8936588292500742\", \"-25.919863350902286\", \"-26.579733408100548\", \"-13.189420027774238\", \"-25.89227337581771\", \"-42.73578015852272\"], [\"0.020995383270696666\", \"-0.8926106957040174\", \"-25.89876247048378\", \"-26.361227451690606\", \"-12.683485731724344\", \"-25.90224738035883\", \"-29.84450244195868\"], [\"-0.10238175156400309\", \"-0.8938509509747616\", \"-25.904366463422775\", \"-27.713223103788636\", \"-13.093563782183907\", \"-25.90361972280911\", \"-43.91893920393823\"]]}, \"header\": {\"values\": [\"Dataset\", \"CoDA-PCA\", \"CLR-PCA\", \"Naive Regression\"]}, \"type\": \"table\", \"uid\": \"4afac4fb-8182-4155-b8de-6f97aac32835\"}],\n",
       "                        {},\n",
       "                        {\"showLink\": false, \"linkText\": \"Export to plot.ly\", \"plotlyServerURL\": \"https://plot.ly\", \"responsive\": true}\n",
       "                    )\n",
       "                };\n",
       "                });\n",
       "            </script>\n",
       "        </div>"
      ]
     },
     "metadata": {},
     "output_type": "display_data"
    }
   ],
   "source": [
    "#note: plotly code works fine, but gives a jupyter warning when saving with a rendered table\n",
    "\n",
    "import plotly.graph_objs as go\n",
    "from plotly.offline import download_plotlyjs, init_notebook_mode, plot, iplot\n",
    "\n",
    "\n",
    "init_notebook_mode(connected=True)\n",
    "\n",
    "\n",
    "table_rows = []\n",
    "for key in score_dict.keys():\n",
    "    mean_scores = list(map(np.mean, score_dict[key]))\n",
    "    table_rows.append([key,*mean_scores])\n",
    "    \n",
    "results = [go.Table(\n",
    "    header=dict(values=[\"Dataset\",\"CoDA-PCA\", \"CLR-PCA\", \"Naive Regression\"]),\n",
    "    cells=dict(values=np.array(table_rows).T))]\n",
    "\n",
    "iplot(results, filename = 'basic_table')    \n",
    "    \n"
   ]
  },
  {
   "cell_type": "code",
   "execution_count": 104,
   "metadata": {},
   "outputs": [
    {
     "name": "stdout",
     "output_type": "stream",
     "text": [
      "[epoch     0] L=-2350.2432\n"
     ]
    },
    {
     "data": {
      "image/png": "[encoded data removed]",
      "text/plain": [
       "<Figure size 432x288 with 1 Axes>"
      ]
     },
     "metadata": {
      "needs_background": "light"
     },
     "output_type": "display_data"
    },
    {
     "data": {
      "text/plain": [
       "array([-25.261753, -22.110834, -21.559628, -29.93517 , -23.510258,\n",
       "       -30.805334, -29.780779, -30.086403, -28.162783, -29.614368,\n",
       "       -20.200672, -20.681925, -25.754166, -26.923162], dtype=float32)"
      ]
     },
     "execution_count": 104,
     "metadata": {},
     "output_type": "execute_result"
    }
   ],
   "source": [
    "%matplotlib inline\n",
    "import pandas as pd\n",
    "bee_data = pd.read_csv(\"beeMicrobiome.csv\")\n",
    "bee_classes = bee_data[bee_data.columns[3:]]\n",
    "\n",
    "\n",
    "#group into classes\n",
    "apiary_a = np.where(bee_classes['Apiary'] == 'A')\n",
    "apiary_b = np.where(bee_classes['Apiary'] == 'B')\n",
    "apiary_c = np.where(bee_classes['Apiary'] == 'C')\n",
    "apiary_d = np.where(bee_classes['Apiary'] == 'D')\n",
    "apiary_e = np.where(bee_classes['Apiary'] == 'E')\n",
    "\n",
    "bee_features = bee_classes.to_numpy()[:,1:]\n",
    "\n",
    "\n",
    "bee_features = np.array([feat/sum(feat) for feat in bee_features])\n",
    "\n",
    "\n",
    "pca = CodaPCA.CodaPCA(2,lrate=1e-3,nn_shape=[100,100], alg=CodaPCA.Alg.CODAPCA)\n",
    "pca.fit(bee_features)\n",
    "test = pca.transform(bee_features)\n",
    "\n",
    "plt.scatter(x = test[apiary_a][:,0], y = test[apiary_a][:,1], c =\"red\")\n",
    "plt.scatter(x = test[apiary_b][:,0], y = test[apiary_b][:,1], c =\"orange\")\n",
    "plt.scatter(x = test[apiary_c][:,0], y = test[apiary_c][:,1], c =\"yellow\")\n",
    "plt.scatter(x = test[apiary_d][:,0], y = test[apiary_d][:,1], c =\"green\")\n",
    "plt.scatter(x = test[apiary_e][:,0], y = test[apiary_e][:,1], c =\"blue\")\n",
    "\n",
    "plt.show()\n",
    "\n",
    "test[apiary_a][:,0]"
   ]
  },
  {
   "cell_type": "code",
   "execution_count": 129,
   "metadata": {},
   "outputs": [
    {
     "name": "stdout",
     "output_type": "stream",
     "text": [
      "[epoch     0] L=-5466.0630\n"
     ]
    },
    {
     "data": {
      "text/plain": [
       "<mpl_toolkits.mplot3d.art3d.Path3DCollection at 0x211f861d0b8>"
      ]
     },
     "execution_count": 129,
     "metadata": {},
     "output_type": "execute_result"
    },
    {
     "data": {
      "image/png": "[encoded data removed]",
      "text/plain": [
       "<Figure size 432x288 with 1 Axes>"
      ]
     },
     "metadata": {
      "needs_background": "light"
     },
     "output_type": "display_data"
    }
   ],
   "source": [
    "import matplotlib.pyplot as plt\n",
    "from mpl_toolkits.mplot3d import Axes3D\n",
    "fig = plt.figure()\n",
    "ax = fig.add_subplot(111, projection='3d')\n",
    "\n",
    "\n",
    "\n",
    "pca = CodaPCA.CodaPCA(3,lrate=1e-3,nn_shape=[100,100], alg=CodaPCA.Alg.CODAPCA)\n",
    "pca.fit(bee_features)\n",
    "test = pca.transform(bee_features)\n",
    "\n",
    "ax.scatter(xs = test[apiary_a][:,0], ys = test[apiary_a][:,1], zs = test[apiary_a][:,2],c =\"red\")\n",
    "ax.scatter(xs = test[apiary_b][:,0], ys = test[apiary_b][:,1],zs = test[apiary_b][:,2], c =\"orange\")\n",
    "ax.scatter(xs = test[apiary_c][:,0], ys = test[apiary_c][:,1],zs = test[apiary_c][:,2], c =\"yellow\")\n",
    "ax.scatter(xs = test[apiary_d][:,0], ys = test[apiary_d][:,1],zs = test[apiary_d][:,2], c =\"green\")\n",
    "ax.scatter(xs = test[apiary_e][:,0], ys = test[apiary_e][:,1],zs = test[apiary_e][:,2], c =\"blue\")"
   ]
  },
  {
   "cell_type": "code",
   "execution_count": 136,
   "metadata": {},
   "outputs": [
    {
     "name": "stdout",
     "output_type": "stream",
     "text": [
      "[epoch     0] L=-519.1475\n"
     ]
    },
    {
     "data": {
      "image/png": "[encoded data removed]",
      "text/plain": [
       "<Figure size 432x288 with 1 Axes>"
      ]
     },
     "metadata": {
      "needs_background": "light"
     },
     "output_type": "display_data"
    }
   ],
   "source": [
    "pca = CodaPCA.CodaPCA(1,lrate=1e-3,nn_shape=[100,100], alg=CodaPCA.Alg.CODAPCA)\n",
    "pca.fit(bee_features)\n",
    "test = pca.transform(bee_features)\n",
    "\n",
    "\n",
    "y = np.zeros(len(test[apiary_a]))\n",
    "plt.scatter(test[apiary_a], y = np.zeros(len(test[apiary_a])), c =\"red\")\n",
    "plt.scatter(test[apiary_b], y = np.zeros(len(test[apiary_b])),c =\"orange\")\n",
    "plt.scatter(test[apiary_c],  y = np.zeros(len(test[apiary_c])),c =\"yellow\")\n",
    "plt.scatter(test[apiary_d],  y = np.zeros(len(test[apiary_d])),c =\"green\")\n",
    "plt.scatter(test[apiary_e], y = np.zeros(len(test[apiary_e])), c =\"blue\")\n",
    "\n",
    "plt.show()\n",
    "\n"
   ]
  }
 ],
 "metadata": {
  "kernelspec": {
   "display_name": "Python 3",
   "language": "python",
   "name": "python3"
  },
  "language_info": {
   "codemirror_mode": {
    "name": "ipython",
    "version": 3
   },
   "file_extension": ".py",
   "mimetype": "text/x-python",
   "name": "python",
   "nbconvert_exporter": "python",
   "pygments_lexer": "ipython3",
   "version": "3.7.3"
  }
 },
 "nbformat": 4,
 "nbformat_minor": 1
}
