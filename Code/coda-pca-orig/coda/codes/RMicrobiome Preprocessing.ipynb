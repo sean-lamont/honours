{
 "cells": [
  {
   "cell_type": "code",
   "execution_count": 1,
   "metadata": {},
   "outputs": [],
   "source": [
    "import pandas as pd\n",
    "import numpy as np"
   ]
  },
  {
   "cell_type": "code",
   "execution_count": 14,
   "metadata": {},
   "outputs": [],
   "source": [
    "#read in diet metadata to use as class labels/regression targets\n",
    "meta = pd.read_csv('dietswap_sampleinfo.csv')\n",
    "\n",
    "#transpose and use rename to get the sample ID as the row labels, allowing a join with features \n",
    "meta=meta.T\n",
    "meta = meta.rename(columns=meta.iloc[0])\n",
    "\n",
    "#transpose again to return to (sample, features) format\n",
    "meta = meta.T\n",
    "\n",
    "#remove useless columns\n",
    "meta = meta.drop('sample',axis=1)\n",
    "meta = meta.drop('Unnamed: 0',axis=1)\n",
    "\n",
    "#read in abundance data\n",
    "otu = pd.read_csv('dietswap_otu.csv')\n",
    "otu = otu.T\n",
    "otu = otu.rename(columns=otu.iloc[0])\n",
    "otu = otu.drop('Unnamed: 0')\n",
    "#join meta and otu based on sample ID\n",
    "full = otu.join(meta)\n",
    "#store as hdf5 for quick serialisation and loading\n",
    "full.to_hdf('dietswap.h5', 'dietswap')"
   ]
  },
  {
   "cell_type": "code",
   "execution_count": 12,
   "metadata": {},
   "outputs": [],
   "source": [
    "#read in diet metadata to use as class labels/regression targets\n",
    "meta = pd.read_csv('atlas_sample_info.csv')\n",
    "\n",
    "#transpose and use rename to get the sample ID as the row labels, allowing a join with features \n",
    "meta=meta.T\n",
    "meta = meta.rename(columns=meta.iloc[0])\n",
    "\n",
    "#transpose again to return to (sample, features) format\n",
    "meta = meta.T\n",
    "\n",
    "#remove useless columns\n",
    "meta = meta.drop('sample',axis=1)\n",
    "meta = meta.drop('Unnamed: 0',axis=1)\n",
    "\n",
    "\n",
    "#read in abundance data\n",
    "otu = pd.read_csv('atlas_otu.csv')\n",
    "otu = otu.T\n",
    "otu = otu.rename(columns=otu.iloc[0])\n",
    "otu = otu.drop('Unnamed: 0')\n",
    "otu\n",
    "#join meta and otu based on sample ID\n",
    "full = otu.join(meta)\n",
    "full = full.dropna()\n",
    "#store as hdf5 for quick serialisation and loading\n",
    "full.to_hdf('atlas.h5', 'atlas')"
   ]
  }
 ],
 "metadata": {
  "kernelspec": {
   "display_name": "Python 3",
   "language": "python",
   "name": "python3"
  },
  "language_info": {
   "codemirror_mode": {
    "name": "ipython",
    "version": 3
   },
   "file_extension": ".py",
   "mimetype": "text/x-python",
   "name": "python",
   "nbconvert_exporter": "python",
   "pygments_lexer": "ipython3",
   "version": "3.7.1"
  }
 },
 "nbformat": 4,
 "nbformat_minor": 2
}
