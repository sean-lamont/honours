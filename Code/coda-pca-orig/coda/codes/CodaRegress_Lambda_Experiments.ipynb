{
 "cells": [
  {
   "cell_type": "code",
   "execution_count": 1,
   "metadata": {},
   "outputs": [],
   "source": [
    "import CodaRegressmb as CodaRegress\n",
    "import pandas as pd\n",
    "import matplotlib.pyplot as plt\n",
    "import numpy as np\n",
    "import torch\n",
    "import CodaPCA"
   ]
  },
  {
   "cell_type": "code",
   "execution_count": 2,
   "metadata": {},
   "outputs": [
    {
     "data": {
      "text/plain": [
       "tensor([ 282.,  368.,  607.,  532.,  360.,  470.,  102.,  544.,  387.,  294.,\n",
       "         503.,  697.,  393.,  665.,  347.,  791.,  225.,  175.,  333.,  269.,\n",
       "         118.,  154.,  276.,  480.,  373.,  369.,  126.,  460.,  441.,  502.,\n",
       "         126.,  376.,  118.,  303.,  250.,  582.,   69.,  226.,  359.,  453.,\n",
       "         427.,  334.,  364.,  869.,  441.,  615.,  532.,  417.,  360.,  580.,\n",
       "         147.,  500.,  943.,  305., 1151.,  457.,  637.,  284.,  386.,  221.,\n",
       "         208.,  573.,  565.,  170.,  261., 1097.,  408.,   24.,  890.,  168.,\n",
       "          22.,  601.,  364.,  342.,  867.,  691.,  462.,  318.,  461.,  777.,\n",
       "         397.,  347.,  744.,  576.,  321.,  382.,  645.,  459.,  681.,  245.,\n",
       "         575.,  698.])"
      ]
     },
     "execution_count": 2,
     "metadata": {},
     "output_type": "execute_result"
    }
   ],
   "source": [
    "data = pd.read_csv(\"Aitchinson/Data 18. Compositions and total pebble counts of 92 glacial tills.csv\")\n",
    "\n",
    "\n",
    "\n",
    "\n",
    "# headers = data[1]\n",
    "# features = data[0][:,co_feature_indices]\n",
    "# targets = data[0][:,target_index]\n",
    "    \n",
    "# #normalise the compositional features. TODO anything extra to deal with non compositional features?\n",
    "\n",
    "\n",
    "features = data[data.columns[1:-1]]\n",
    "targets = data[data.columns[-1]]\n",
    "\n",
    "features = np.array([feat/sum(feat) for feat in features.values])\n",
    "\n",
    "\n",
    "features = torch.FloatTensor(features)\n",
    "targets = torch.FloatTensor(targets)\n",
    "\n",
    "targets"
   ]
  },
  {
   "cell_type": "code",
   "execution_count": 3,
   "metadata": {},
   "outputs": [
    {
     "data": {
      "text/plain": [
       "tensor([[0.7750, 0.1950, 0.0300],\n",
       "        [0.7190, 0.2490, 0.0320],\n",
       "        [0.5070, 0.3610, 0.1320],\n",
       "        [0.5236, 0.4102, 0.0662],\n",
       "        [0.7000, 0.2650, 0.0350],\n",
       "        [0.6650, 0.3220, 0.0130],\n",
       "        [0.4310, 0.5530, 0.0160],\n",
       "        [0.5340, 0.3680, 0.0980],\n",
       "        [0.1550, 0.5440, 0.3010],\n",
       "        [0.3170, 0.4150, 0.2680],\n",
       "        [0.6570, 0.2780, 0.0650],\n",
       "        [0.7040, 0.2900, 0.0060],\n",
       "        [0.1740, 0.5360, 0.2900],\n",
       "        [0.1060, 0.6980, 0.1960],\n",
       "        [0.3820, 0.4310, 0.1870],\n",
       "        [0.1080, 0.5270, 0.3650],\n",
       "        [0.1840, 0.5070, 0.3090],\n",
       "        [0.0460, 0.4740, 0.4800],\n",
       "        [0.1560, 0.5040, 0.3400],\n",
       "        [0.3190, 0.4510, 0.2300],\n",
       "        [0.0950, 0.5350, 0.3700],\n",
       "        [0.1710, 0.4800, 0.3490],\n",
       "        [0.1050, 0.5540, 0.3410],\n",
       "        [0.0478, 0.5443, 0.4080],\n",
       "        [0.0260, 0.4520, 0.5220],\n",
       "        [0.1140, 0.5270, 0.3590],\n",
       "        [0.0670, 0.4690, 0.4640],\n",
       "        [0.0690, 0.4970, 0.4340],\n",
       "        [0.0400, 0.4490, 0.5110],\n",
       "        [0.0741, 0.5165, 0.4094],\n",
       "        [0.0480, 0.4950, 0.4570],\n",
       "        [0.0450, 0.4850, 0.4700],\n",
       "        [0.0660, 0.5210, 0.4130],\n",
       "        [0.0671, 0.4735, 0.4595],\n",
       "        [0.0741, 0.4565, 0.4695],\n",
       "        [0.0600, 0.4890, 0.4510],\n",
       "        [0.0630, 0.5380, 0.3990],\n",
       "        [0.0250, 0.4800, 0.4950],\n",
       "        [0.0200, 0.4780, 0.5020]])"
      ]
     },
     "execution_count": 3,
     "metadata": {},
     "output_type": "execute_result"
    }
   ],
   "source": [
    "data = pd.read_csv(\"Aitchinson/Data 5. Sand, silt, clay compositions of 39 sediment samples at different water depths in an Arctic lake.csv\")\n",
    "\n",
    "features = data[data.columns[1:-1]]\n",
    "targets = data[data.columns[-1]]\n",
    "\n",
    "features = np.array([feat/sum(feat) for feat in features.values])\n",
    "\n",
    "\n",
    "features = torch.FloatTensor(features)\n",
    "targets = torch.FloatTensor(targets)\n",
    "\n",
    "features"
   ]
  },
  {
   "cell_type": "code",
   "execution_count": 83,
   "metadata": {},
   "outputs": [
    {
     "name": "stdout",
     "output_type": "stream",
     "text": [
      "CoDA_Regress(\n",
      "  (linear): Linear(in_features=2, out_features=1, bias=True)\n",
      "  (encoder): Sequential(\n",
      "    (layer0): Linear(in_features=6, out_features=100, bias=True)\n",
      "    (final_layer): Linear(in_features=100, out_features=2, bias=True)\n",
      "    (final_ac): ELU(alpha=1.0)\n",
      "  )\n",
      "  (decoder): Sequential(\n",
      "    (layer0): Linear(in_features=2, out_features=3, bias=True)\n",
      "    (final_layer): Linear(in_features=3, out_features=3, bias=True)\n",
      "    (final_ac): ELU(alpha=1.0)\n",
      "  )\n",
      ")\n"
     ]
    },
    {
     "data": {
      "image/png": "[encoded data removed]",
      "text/plain": [
       "<Figure size 504x504 with 1 Axes>"
      ]
     },
     "metadata": {
      "needs_background": "light"
     },
     "output_type": "display_data"
    }
   ],
   "source": [
    "#training code stub, read in data as X and targets as y\n",
    "#TODO substitute this into model class, and set up API similar to original CoDA-PCA paper\n",
    "features = torch.FloatTensor(features)\n",
    "\n",
    "X = features\n",
    "y = targets.reshape(-1,1)\n",
    "model = CodaRegress.CoDA_Regress(X.shape[1], 2, [100,], [3,])\n",
    "\n",
    "print (model)\n",
    "\n",
    "model.fit(torch.FloatTensor(X),  torch.FloatTensor(y), 1, lr=1e-3, train_size= int(len(X)*(3/4)), epochs=1000)\n",
    "\n",
    "test = model.transform(X).detach().numpy()\n",
    "\n",
    "\n",
    "\n",
    "\n",
    "\n",
    "\n",
    "\n",
    "\n",
    "\n",
    "fig = plt.figure(figsize=(7,7))\n",
    "\n",
    "plt.scatter(test[:,0], test[:,1], c=labels)\n",
    "\n",
    "plt.title(\"Low level representation, lambda = 1\")\n",
    "\n",
    "fig.savefig(\"lambda_low.pdf\", bbox_inches='tight')\n",
    "\n",
    "plt.show()\n",
    "\n",
    "\n",
    "\n",
    "\n",
    "\n",
    "\n"
   ]
  },
  {
   "cell_type": "code",
   "execution_count": 75,
   "metadata": {},
   "outputs": [
    {
     "data": {
      "image/png": "[encoded data removed]",
      "text/plain": [
       "<Figure size 504x504 with 1 Axes>"
      ]
     },
     "metadata": {
      "needs_background": "light"
     },
     "output_type": "display_data"
    }
   ],
   "source": [
    "from sklearn.cluster import KMeans\n",
    "\n",
    "clusters = 3\n",
    "\n",
    "clust = KMeans(clusters)\n",
    "\n",
    "clust.fit(test)\n",
    "\n",
    "labels = clust.labels_\n",
    "\n",
    "fig = plt.figure(figsize=(7,7))\n",
    "\n",
    "plt.scatter(test[:,0], test[:,1], c=labels)\n",
    "\n",
    "plt.title(\"Low level representation, lambda = 10000\")\n",
    "\n",
    "fig.savefig(\"lambda_high2.pdf\", bbox_inches='tight')\n",
    "\n",
    "    "
   ]
  },
  {
   "cell_type": "code",
   "execution_count": 79,
   "metadata": {},
   "outputs": [
    {
     "name": "stdout",
     "output_type": "stream",
     "text": [
      "[epoch     0] L=  2.4318\n"
     ]
    },
    {
     "data": {
      "text/plain": [
       "<matplotlib.collections.PathCollection at 0x1fff4a44630>"
      ]
     },
     "execution_count": 79,
     "metadata": {},
     "output_type": "execute_result"
    },
    {
     "data": {
      "image/png": "[encoded data removed]",
      "text/plain": [
       "<Figure size 432x288 with 1 Axes>"
      ]
     },
     "metadata": {
      "needs_background": "light"
     },
     "output_type": "display_data"
    }
   ],
   "source": [
    "data = pd.read_csv(\"Aitchinson/Data 5. Sand, silt, clay compositions of 39 sediment samples at different water depths in an Arctic lake.csv\")\n",
    "\n",
    "features = data[data.columns[1:-1]]\n",
    "targets = data[data.columns[-1]]\n",
    "\n",
    "features = np.array([feat/sum(feat) for feat in features.values])\n",
    "\n",
    "\n",
    "#features = torch.FloatTensor(features)\n",
    "targets = torch.FloatTensor(targets)\n",
    "\n",
    "pca = CodaPCA.CodaPCA(2,lrate=1e-2,nn_shape=[50,50], alg=CodaPCA.Alg.CODAPCA)\n",
    "\n",
    "test2 = pca.fit_transform(features)\n",
    "\n",
    "plt.scatter(test2[:,0], test2[:,1])\n",
    "\n",
    "\n"
   ]
  },
  {
   "cell_type": "code",
   "execution_count": 80,
   "metadata": {},
   "outputs": [
    {
     "data": {
      "image/png": "[encoded data removed]",
      "text/plain": [
       "<Figure size 504x504 with 1 Axes>"
      ]
     },
     "metadata": {
      "needs_background": "light"
     },
     "output_type": "display_data"
    }
   ],
   "source": [
    "\n",
    "\n",
    "fig = plt.figure(figsize=(7,7))\n",
    "\n",
    "plt.scatter(test2[:,0], test2[:,1], c=labels)\n",
    "\n",
    "plt.title(\"Low level representation, CoDA-PCA\")\n",
    "\n",
    "fig.savefig(\"coda_rep.pdf\", bbox_inches='tight')\n"
   ]
  },
  {
   "cell_type": "code",
   "execution_count": 8,
   "metadata": {},
   "outputs": [
    {
     "ename": "NameError",
     "evalue": "name 'KFold' is not defined",
     "output_type": "error",
     "traceback": [
      "\u001b[1;31m---------------------------------------------------------------------------\u001b[0m",
      "\u001b[1;31mNameError\u001b[0m                                 Traceback (most recent call last)",
      "\u001b[1;32m<ipython-input-8-04a4a579769c>\u001b[0m in \u001b[0;36m<module>\u001b[1;34m\u001b[0m\n\u001b[1;32m----> 1\u001b[1;33m \u001b[0mkf\u001b[0m \u001b[1;33m=\u001b[0m \u001b[0mKFold\u001b[0m\u001b[1;33m(\u001b[0m\u001b[1;36m4\u001b[0m\u001b[1;33m)\u001b[0m\u001b[1;33m\u001b[0m\u001b[1;33m\u001b[0m\u001b[0m\n\u001b[0m\u001b[0;32m      2\u001b[0m \u001b[0msplits\u001b[0m \u001b[1;33m=\u001b[0m \u001b[1;33m[\u001b[0m\u001b[0mi\u001b[0m \u001b[1;32mfor\u001b[0m \u001b[0mi\u001b[0m \u001b[1;32min\u001b[0m \u001b[0mkf\u001b[0m\u001b[1;33m.\u001b[0m\u001b[0msplit\u001b[0m\u001b[1;33m(\u001b[0m\u001b[0mfeatures\u001b[0m\u001b[1;33m)\u001b[0m\u001b[1;33m]\u001b[0m\u001b[1;33m\u001b[0m\u001b[1;33m\u001b[0m\u001b[0m\n\u001b[0;32m      3\u001b[0m \u001b[0msplits\u001b[0m\u001b[1;33m\u001b[0m\u001b[1;33m\u001b[0m\u001b[0m\n",
      "\u001b[1;31mNameError\u001b[0m: name 'KFold' is not defined"
     ]
    }
   ],
   "source": [
    "kf = KFold(4)\n",
    "splits = [i for i in kf.split(features)]\n",
    "splits"
   ]
  },
  {
   "cell_type": "code",
   "execution_count": null,
   "metadata": {
    "scrolled": true
   },
   "outputs": [],
   "source": [
    "#training code stub, read in data as X and targets as y\n",
    "#TODO substitute this into model class, and set up API similar to original CoDA-PCA paper\n",
    "\n",
    "\n",
    "X = features\n",
    "y = targets.reshape(-1,1)\n",
    "#define the combined loss with hyperparameter lambda\n",
    "scores = []\n",
    "for ind in splits: \n",
    "    model = CoDA_Regress(X.shape[1], 2, [101,], [3,])\n",
    "    \n",
    "    #model = Ridge(1)\n",
    "    \n",
    "    model.fit(torch.FloatTensor(X[ind[0]]),  torch.FloatTensor(y[ind[0]]), 0, lr=1e-2)\n",
    "\n",
    "    y_pred = model.predict(torch.FloatTensor(X[ind[1]]))\n",
    "\n",
    "#     print(y_pred)\n",
    "#     print(y[ind[1]].detach().numpy())\n",
    "    \n",
    "    scores.append(sklearn.metrics.mean_squared_error(y[ind[1]].detach().numpy(),y_pred.detach().numpy()))\n",
    "    \n",
    "scores\n",
    "\n"
   ]
  }
 ],
 "metadata": {
  "kernelspec": {
   "display_name": "Python 3",
   "language": "python",
   "name": "python3"
  },
  "language_info": {
   "codemirror_mode": {
    "name": "ipython",
    "version": 3
   },
   "file_extension": ".py",
   "mimetype": "text/x-python",
   "name": "python",
   "nbconvert_exporter": "python",
   "pygments_lexer": "ipython3",
   "version": "3.7.1"
  }
 },
 "nbformat": 4,
 "nbformat_minor": 2
}
